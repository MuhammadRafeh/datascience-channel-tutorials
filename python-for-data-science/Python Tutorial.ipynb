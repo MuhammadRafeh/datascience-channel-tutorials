{
 "cells": [
  {
   "cell_type": "markdown",
   "id": "f3f24e99-3316-44ad-92cc-e747ef47b136",
   "metadata": {},
   "source": [
    "# Python Tutorial"
   ]
  },
  {
   "cell_type": "code",
   "execution_count": 1,
   "id": "f94d3d65-820c-4d43-85d7-d5616cf438cf",
   "metadata": {},
   "outputs": [],
   "source": [
    "# Advanced Tutorial for Data Science"
   ]
  },
  {
   "cell_type": "code",
   "execution_count": 2,
   "id": "7b48b95a-09bf-4bf9-911a-7021a2461371",
   "metadata": {},
   "outputs": [
    {
     "data": {
      "text/plain": [
       "3"
      ]
     },
     "execution_count": 2,
     "metadata": {},
     "output_type": "execute_result"
    }
   ],
   "source": [
    "1 + 2"
   ]
  },
  {
   "cell_type": "code",
   "execution_count": 3,
   "id": "efd7b90c-4b43-49b8-8015-a262f5c5fcfd",
   "metadata": {},
   "outputs": [
    {
     "data": {
      "text/plain": [
       "0.6"
      ]
     },
     "execution_count": 3,
     "metadata": {},
     "output_type": "execute_result"
    }
   ],
   "source": [
    "3 / 5"
   ]
  },
  {
   "cell_type": "code",
   "execution_count": 4,
   "id": "0b3f4943-89ca-4d82-96ac-26bc7c117265",
   "metadata": {},
   "outputs": [
    {
     "data": {
      "text/plain": [
       "0"
      ]
     },
     "execution_count": 4,
     "metadata": {},
     "output_type": "execute_result"
    }
   ],
   "source": [
    "3 // 5"
   ]
  },
  {
   "cell_type": "code",
   "execution_count": 5,
   "id": "84919daa-b7f4-4af1-9b2e-67a024c3b0fd",
   "metadata": {},
   "outputs": [
    {
     "data": {
      "text/plain": [
       "14"
      ]
     },
     "execution_count": 5,
     "metadata": {},
     "output_type": "execute_result"
    }
   ],
   "source": [
    "2 * 7"
   ]
  },
  {
   "cell_type": "code",
   "execution_count": 6,
   "id": "52adecb5-deb7-4c6a-bdc5-7802cfa36a94",
   "metadata": {},
   "outputs": [
    {
     "data": {
      "text/plain": [
       "-4"
      ]
     },
     "execution_count": 6,
     "metadata": {},
     "output_type": "execute_result"
    }
   ],
   "source": [
    "5 - 9"
   ]
  },
  {
   "cell_type": "code",
   "execution_count": 7,
   "id": "071114e4-6404-4f57-95b6-3d20d9d96aef",
   "metadata": {},
   "outputs": [
    {
     "data": {
      "text/plain": [
       "-1.0795454545454546"
      ]
     },
     "execution_count": 7,
     "metadata": {},
     "output_type": "execute_result"
    }
   ],
   "source": [
    "(6 + 89) / (2 - 90)"
   ]
  },
  {
   "cell_type": "code",
   "execution_count": 8,
   "id": "9e549563-4aac-4f99-884d-93b6b399e5f3",
   "metadata": {},
   "outputs": [
    {
     "data": {
      "text/plain": [
       "0"
      ]
     },
     "execution_count": 8,
     "metadata": {},
     "output_type": "execute_result"
    }
   ],
   "source": [
    "6 % 2"
   ]
  },
  {
   "cell_type": "code",
   "execution_count": 9,
   "id": "9dcc7205-8d7d-4014-ad53-312f04979e60",
   "metadata": {},
   "outputs": [
    {
     "data": {
      "text/plain": [
       "1"
      ]
     },
     "execution_count": 9,
     "metadata": {},
     "output_type": "execute_result"
    }
   ],
   "source": [
    "9 % 2"
   ]
  },
  {
   "cell_type": "code",
   "execution_count": 10,
   "id": "83225fb6-ae18-4b35-badb-01a5a7f3c49d",
   "metadata": {},
   "outputs": [
    {
     "data": {
      "text/plain": [
       "0"
      ]
     },
     "execution_count": 10,
     "metadata": {},
     "output_type": "execute_result"
    }
   ],
   "source": [
    " 90 % 2"
   ]
  },
  {
   "cell_type": "code",
   "execution_count": 12,
   "id": "84f214e7-d2ac-462b-ba63-9ff4ea537461",
   "metadata": {},
   "outputs": [
    {
     "name": "stdout",
     "output_type": "stream",
     "text": [
      "Even 0\n",
      "Old\n",
      "Even 2\n",
      "Old\n",
      "Even 4\n",
      "Old\n",
      "Even 6\n",
      "Old\n",
      "Even 8\n",
      "Old\n"
     ]
    }
   ],
   "source": [
    "for i in range(0, 10):\n",
    "    if (i % 2 == 0):\n",
    "        print(\"Even\", i)\n",
    "    else:\n",
    "        print(\"Odd\")"
   ]
  },
  {
   "cell_type": "markdown",
   "id": "6b64c7d1-8ac6-4b23-99fa-9239fbf9dd40",
   "metadata": {},
   "source": [
    "# Truthy and Falsy Values"
   ]
  },
  {
   "cell_type": "code",
   "execution_count": 22,
   "id": "a76492be-94e1-409f-8dcb-ed5cc1e1c9ee",
   "metadata": {},
   "outputs": [
    {
     "data": {
      "text/plain": [
       "False"
      ]
     },
     "execution_count": 22,
     "metadata": {},
     "output_type": "execute_result"
    }
   ],
   "source": [
    "bool(0)"
   ]
  },
  {
   "cell_type": "code",
   "execution_count": 23,
   "id": "f2f1f303-ecf8-42e2-ad57-3a86a25558bd",
   "metadata": {},
   "outputs": [
    {
     "data": {
      "text/plain": [
       "False"
      ]
     },
     "execution_count": 23,
     "metadata": {},
     "output_type": "execute_result"
    }
   ],
   "source": [
    "bool(0.0)"
   ]
  },
  {
   "cell_type": "code",
   "execution_count": 24,
   "id": "f17350c3-24e9-4a0f-9aac-05ff0ae1f06b",
   "metadata": {},
   "outputs": [
    {
     "data": {
      "text/plain": [
       "False"
      ]
     },
     "execution_count": 24,
     "metadata": {},
     "output_type": "execute_result"
    }
   ],
   "source": [
    "bool(\"\")"
   ]
  },
  {
   "cell_type": "code",
   "execution_count": 25,
   "id": "36d3175e-4aee-4ddb-8d0a-7615b6d9c5ef",
   "metadata": {},
   "outputs": [
    {
     "data": {
      "text/plain": [
       "False"
      ]
     },
     "execution_count": 25,
     "metadata": {},
     "output_type": "execute_result"
    }
   ],
   "source": [
    "bool([])"
   ]
  },
  {
   "cell_type": "code",
   "execution_count": 26,
   "id": "129763b6-9dce-43c8-99db-b74a1479bc74",
   "metadata": {},
   "outputs": [
    {
     "data": {
      "text/plain": [
       "False"
      ]
     },
     "execution_count": 26,
     "metadata": {},
     "output_type": "execute_result"
    }
   ],
   "source": [
    "bool({})"
   ]
  },
  {
   "cell_type": "code",
   "execution_count": 27,
   "id": "d0b5827a-7d36-422f-9b36-d8d2df3cd909",
   "metadata": {},
   "outputs": [
    {
     "data": {
      "text/plain": [
       "False"
      ]
     },
     "execution_count": 27,
     "metadata": {},
     "output_type": "execute_result"
    }
   ],
   "source": [
    "bool(())"
   ]
  },
  {
   "cell_type": "code",
   "execution_count": 28,
   "id": "637d81ab-273b-411d-8ea4-79e226a436a2",
   "metadata": {},
   "outputs": [
    {
     "data": {
      "text/plain": [
       "True"
      ]
     },
     "execution_count": 28,
     "metadata": {},
     "output_type": "execute_result"
    }
   ],
   "source": [
    "bool(2)"
   ]
  },
  {
   "cell_type": "code",
   "execution_count": 29,
   "id": "4d85eb09-4048-4803-930c-e4e061ef6329",
   "metadata": {},
   "outputs": [
    {
     "data": {
      "text/plain": [
       "True"
      ]
     },
     "execution_count": 29,
     "metadata": {},
     "output_type": "execute_result"
    }
   ],
   "source": [
    "bool(\"asd\")"
   ]
  },
  {
   "cell_type": "code",
   "execution_count": 30,
   "id": "edc04712-e5c0-4dc5-ad43-0218691eab5a",
   "metadata": {},
   "outputs": [
    {
     "data": {
      "text/plain": [
       "True"
      ]
     },
     "execution_count": 30,
     "metadata": {},
     "output_type": "execute_result"
    }
   ],
   "source": [
    "bool({2,3,4})"
   ]
  },
  {
   "cell_type": "markdown",
   "id": "30df31d7-6315-4be1-a7b3-98c12752a8e8",
   "metadata": {},
   "source": [
    "# Some More Operations"
   ]
  },
  {
   "cell_type": "code",
   "execution_count": 44,
   "id": "02a15b83-2463-4df7-be4a-8fd407357f0e",
   "metadata": {},
   "outputs": [
    {
     "data": {
      "text/plain": [
       "'stringstring'"
      ]
     },
     "execution_count": 44,
     "metadata": {},
     "output_type": "execute_result"
    }
   ],
   "source": [
    "\"string\" + \"string\""
   ]
  },
  {
   "cell_type": "code",
   "execution_count": 60,
   "id": "d3ea52e8-c677-4304-a687-ac0779f8d31a",
   "metadata": {},
   "outputs": [
    {
     "data": {
      "text/plain": [
       "'asdasdasdasd'"
      ]
     },
     "execution_count": 60,
     "metadata": {},
     "output_type": "execute_result"
    }
   ],
   "source": [
    "\"asdasd\" * 2"
   ]
  },
  {
   "cell_type": "code",
   "execution_count": 45,
   "id": "1e3b686c-4151-4440-b280-8a79bdbd0548",
   "metadata": {},
   "outputs": [
    {
     "data": {
      "text/plain": [
       "[2323, 3434, 23, 90]"
      ]
     },
     "execution_count": 45,
     "metadata": {},
     "output_type": "execute_result"
    }
   ],
   "source": [
    "[2323,3434] + [23, 90]"
   ]
  },
  {
   "cell_type": "code",
   "execution_count": 62,
   "id": "4d93cac6-4b43-4ea0-b22c-04d9adc6bde7",
   "metadata": {},
   "outputs": [
    {
     "data": {
      "text/plain": [
       "211"
      ]
     },
     "execution_count": 62,
     "metadata": {},
     "output_type": "execute_result"
    }
   ],
   "source": [
    "(121) + 90"
   ]
  },
  {
   "cell_type": "code",
   "execution_count": 47,
   "id": "c2ea4eb4-e0fc-4f6c-a4b4-b44cbf2d8ffd",
   "metadata": {},
   "outputs": [
    {
     "ename": "TypeError",
     "evalue": "unsupported operand type(s) for +: 'set' and 'int'",
     "output_type": "error",
     "traceback": [
      "\u001b[0;31m---------------------------------------------------------------------------\u001b[0m",
      "\u001b[0;31mTypeError\u001b[0m                                 Traceback (most recent call last)",
      "Cell \u001b[0;32mIn[47], line 1\u001b[0m\n\u001b[0;32m----> 1\u001b[0m \u001b[43m{\u001b[49m\u001b[38;5;241;43m2323\u001b[39;49m\u001b[43m,\u001b[49m\u001b[43m \u001b[49m\u001b[38;5;241;43m90\u001b[39;49m\u001b[43m}\u001b[49m\u001b[43m \u001b[49m\u001b[38;5;241;43m+\u001b[39;49m\u001b[43m \u001b[49m\u001b[38;5;241;43m90\u001b[39;49m\n",
      "\u001b[0;31mTypeError\u001b[0m: unsupported operand type(s) for +: 'set' and 'int'"
     ]
    }
   ],
   "source": [
    "{2323, 90} + 90"
   ]
  },
  {
   "cell_type": "code",
   "execution_count": 48,
   "id": "cb1238aa-1f0c-42a8-a898-c15dfa6be813",
   "metadata": {},
   "outputs": [
    {
     "ename": "TypeError",
     "evalue": "can only concatenate str (not \"int\") to str",
     "output_type": "error",
     "traceback": [
      "\u001b[0;31m---------------------------------------------------------------------------\u001b[0m",
      "\u001b[0;31mTypeError\u001b[0m                                 Traceback (most recent call last)",
      "Cell \u001b[0;32mIn[48], line 1\u001b[0m\n\u001b[0;32m----> 1\u001b[0m \u001b[38;5;124;43m\"\u001b[39;49m\u001b[38;5;124;43masdasd\u001b[39;49m\u001b[38;5;124;43m\"\u001b[39;49m\u001b[43m \u001b[49m\u001b[38;5;241;43m+\u001b[39;49m\u001b[43m \u001b[49m\u001b[38;5;241;43m232\u001b[39;49m\n",
      "\u001b[0;31mTypeError\u001b[0m: can only concatenate str (not \"int\") to str"
     ]
    }
   ],
   "source": [
    "\"asdasd\" + 232"
   ]
  },
  {
   "cell_type": "code",
   "execution_count": 49,
   "id": "7f3dbc2c-3ea9-4bf9-9c0f-b7a97f6efaad",
   "metadata": {},
   "outputs": [
    {
     "ename": "TypeError",
     "evalue": "can only concatenate str (not \"float\") to str",
     "output_type": "error",
     "traceback": [
      "\u001b[0;31m---------------------------------------------------------------------------\u001b[0m",
      "\u001b[0;31mTypeError\u001b[0m                                 Traceback (most recent call last)",
      "Cell \u001b[0;32mIn[49], line 1\u001b[0m\n\u001b[0;32m----> 1\u001b[0m \u001b[38;5;124;43m\"\u001b[39;49m\u001b[38;5;124;43masd\u001b[39;49m\u001b[38;5;124;43m\"\u001b[39;49m\u001b[43m \u001b[49m\u001b[38;5;241;43m+\u001b[39;49m\u001b[43m \u001b[49m\u001b[38;5;241;43m9.0\u001b[39;49m\n",
      "\u001b[0;31mTypeError\u001b[0m: can only concatenate str (not \"float\") to str"
     ]
    }
   ],
   "source": [
    "\"asd\" + 9.0"
   ]
  },
  {
   "cell_type": "code",
   "execution_count": 50,
   "id": "13b6dc55-6aeb-442f-aa80-527009d81163",
   "metadata": {},
   "outputs": [
    {
     "data": {
      "text/plain": [
       "'asdasdasdasd'"
      ]
     },
     "execution_count": 50,
     "metadata": {},
     "output_type": "execute_result"
    }
   ],
   "source": [
    "\"asdasd\" * 2"
   ]
  },
  {
   "cell_type": "code",
   "execution_count": 51,
   "id": "df5bde6c-d772-4872-8821-eb1970be52aa",
   "metadata": {},
   "outputs": [
    {
     "data": {
      "text/plain": [
       "['asdasd', 2323, 'asdasd', 2323]"
      ]
     },
     "execution_count": 51,
     "metadata": {},
     "output_type": "execute_result"
    }
   ],
   "source": [
    "[\"asdasd\", 2323] * 2"
   ]
  },
  {
   "cell_type": "code",
   "execution_count": 52,
   "id": "8167a2c7-41ab-4efe-9b3b-002c9fb95079",
   "metadata": {},
   "outputs": [
    {
     "data": {
      "text/plain": [
       "['232', 2323]"
      ]
     },
     "execution_count": 52,
     "metadata": {},
     "output_type": "execute_result"
    }
   ],
   "source": [
    "[\"232\"] + [2323]"
   ]
  },
  {
   "cell_type": "code",
   "execution_count": 53,
   "id": "df4c66a6-29a6-46db-901a-13988d4e435a",
   "metadata": {},
   "outputs": [
    {
     "data": {
      "text/plain": [
       "4646"
      ]
     },
     "execution_count": 53,
     "metadata": {},
     "output_type": "execute_result"
    }
   ],
   "source": [
    "(2323) + 2323"
   ]
  },
  {
   "cell_type": "code",
   "execution_count": 54,
   "id": "4843c201-e579-4ac4-b719-0169211bd757",
   "metadata": {},
   "outputs": [
    {
     "data": {
      "text/plain": [
       "1254528"
      ]
     },
     "execution_count": 54,
     "metadata": {},
     "output_type": "execute_result"
    }
   ],
   "source": [
    "(23232) * 54"
   ]
  },
  {
   "cell_type": "code",
   "execution_count": 55,
   "id": "d7806d51-646c-487a-99a2-791226582fb7",
   "metadata": {},
   "outputs": [
    {
     "data": {
      "text/plain": [
       "True"
      ]
     },
     "execution_count": 55,
     "metadata": {},
     "output_type": "execute_result"
    }
   ],
   "source": [
    "90 in [90, 2323]"
   ]
  },
  {
   "cell_type": "code",
   "execution_count": 56,
   "id": "0434855f-1d49-486a-98c6-0d7084632401",
   "metadata": {},
   "outputs": [
    {
     "ename": "TypeError",
     "evalue": "argument of type 'int' is not iterable",
     "output_type": "error",
     "traceback": [
      "\u001b[0;31m---------------------------------------------------------------------------\u001b[0m",
      "\u001b[0;31mTypeError\u001b[0m                                 Traceback (most recent call last)",
      "Cell \u001b[0;32mIn[56], line 1\u001b[0m\n\u001b[0;32m----> 1\u001b[0m \u001b[38;5;241;43m909\u001b[39;49m\u001b[43m \u001b[49m\u001b[38;5;129;43;01min\u001b[39;49;00m\u001b[43m \u001b[49m\u001b[43m(\u001b[49m\u001b[38;5;241;43m909\u001b[39;49m\u001b[43m)\u001b[49m\n",
      "\u001b[0;31mTypeError\u001b[0m: argument of type 'int' is not iterable"
     ]
    }
   ],
   "source": [
    "909 in (909)"
   ]
  },
  {
   "cell_type": "code",
   "execution_count": 57,
   "id": "c6adc119-1687-464d-bda4-af9a41621062",
   "metadata": {},
   "outputs": [
    {
     "data": {
      "text/plain": [
       "2413"
      ]
     },
     "execution_count": 57,
     "metadata": {},
     "output_type": "execute_result"
    }
   ],
   "source": [
    "(2323) + 90"
   ]
  },
  {
   "cell_type": "code",
   "execution_count": 58,
   "id": "6adf739f-d2bf-44e6-99c7-602ca8b73075",
   "metadata": {},
   "outputs": [
    {
     "ename": "TypeError",
     "evalue": "can only concatenate list (not \"int\") to list",
     "output_type": "error",
     "traceback": [
      "\u001b[0;31m---------------------------------------------------------------------------\u001b[0m",
      "\u001b[0;31mTypeError\u001b[0m                                 Traceback (most recent call last)",
      "Cell \u001b[0;32mIn[58], line 1\u001b[0m\n\u001b[0;32m----> 1\u001b[0m \u001b[43m[\u001b[49m\u001b[38;5;241;43m2323\u001b[39;49m\u001b[43m]\u001b[49m\u001b[43m \u001b[49m\u001b[38;5;241;43m+\u001b[39;49m\u001b[43m \u001b[49m\u001b[38;5;241;43m2323\u001b[39;49m\n",
      "\u001b[0;31mTypeError\u001b[0m: can only concatenate list (not \"int\") to list"
     ]
    }
   ],
   "source": [
    "[2323] + 2323"
   ]
  },
  {
   "cell_type": "markdown",
   "id": "13a810ab-0ab1-40ce-88c1-34fb695c0fa1",
   "metadata": {},
   "source": [
    "# Types"
   ]
  },
  {
   "cell_type": "code",
   "execution_count": 63,
   "id": "44a36b1a-3f2b-496b-b857-627242cb37ea",
   "metadata": {},
   "outputs": [
    {
     "data": {
      "text/plain": [
       "int"
      ]
     },
     "execution_count": 63,
     "metadata": {},
     "output_type": "execute_result"
    }
   ],
   "source": [
    "a = 23\n",
    "type(a)"
   ]
  },
  {
   "cell_type": "code",
   "execution_count": 64,
   "id": "6023bec8-5a02-4871-9b99-f51eca242e04",
   "metadata": {},
   "outputs": [
    {
     "data": {
      "text/plain": [
       "str"
      ]
     },
     "execution_count": 64,
     "metadata": {},
     "output_type": "execute_result"
    }
   ],
   "source": [
    "a = \"asdasd\"\n",
    "type(a)"
   ]
  },
  {
   "cell_type": "code",
   "execution_count": 65,
   "id": "29db468e-cffd-41c4-be21-6f4adbe49725",
   "metadata": {},
   "outputs": [
    {
     "data": {
      "text/plain": [
       "float"
      ]
     },
     "execution_count": 65,
     "metadata": {},
     "output_type": "execute_result"
    }
   ],
   "source": [
    "type(23.90)"
   ]
  },
  {
   "cell_type": "code",
   "execution_count": 66,
   "id": "012b43bd-4c59-4c80-9347-47fff19eb979",
   "metadata": {},
   "outputs": [
    {
     "data": {
      "text/plain": [
       "list"
      ]
     },
     "execution_count": 66,
     "metadata": {},
     "output_type": "execute_result"
    }
   ],
   "source": [
    "type([])"
   ]
  },
  {
   "cell_type": "code",
   "execution_count": 67,
   "id": "e902dc7e-efe5-4063-97c4-cb8d603f5211",
   "metadata": {},
   "outputs": [
    {
     "data": {
      "text/plain": [
       "NoneType"
      ]
     },
     "execution_count": 67,
     "metadata": {},
     "output_type": "execute_result"
    }
   ],
   "source": [
    "type(None)"
   ]
  },
  {
   "cell_type": "code",
   "execution_count": 68,
   "id": "abc92ee4-c02d-4196-98c0-4a1793308c39",
   "metadata": {},
   "outputs": [
    {
     "data": {
      "text/plain": [
       "tuple"
      ]
     },
     "execution_count": 68,
     "metadata": {},
     "output_type": "execute_result"
    }
   ],
   "source": [
    "type(())"
   ]
  },
  {
   "cell_type": "code",
   "execution_count": 69,
   "id": "c1669f64-c9f4-4e1e-962e-5b05358f0260",
   "metadata": {},
   "outputs": [
    {
     "data": {
      "text/plain": [
       "dict"
      ]
     },
     "execution_count": 69,
     "metadata": {},
     "output_type": "execute_result"
    }
   ],
   "source": [
    "type({})"
   ]
  },
  {
   "cell_type": "code",
   "execution_count": 70,
   "id": "ff1822f0-bfe9-4b10-a698-e8e9f0c9a953",
   "metadata": {},
   "outputs": [
    {
     "data": {
      "text/plain": [
       "set"
      ]
     },
     "execution_count": 70,
     "metadata": {},
     "output_type": "execute_result"
    }
   ],
   "source": [
    "type({2,3,5})"
   ]
  },
  {
   "cell_type": "code",
   "execution_count": 72,
   "id": "87038ff8-9ddd-4089-9527-ed458a719130",
   "metadata": {},
   "outputs": [
    {
     "data": {
      "text/plain": [
       "True"
      ]
     },
     "execution_count": 72,
     "metadata": {},
     "output_type": "execute_result"
    }
   ],
   "source": [
    "isinstance(\"asdas\", str)"
   ]
  },
  {
   "cell_type": "code",
   "execution_count": 74,
   "id": "7e0b6634-adbd-4288-9150-ffdb8fdfd5f0",
   "metadata": {},
   "outputs": [
    {
     "data": {
      "text/plain": [
       "True"
      ]
     },
     "execution_count": 74,
     "metadata": {},
     "output_type": "execute_result"
    }
   ],
   "source": [
    "isinstance(\"asd\", (str, set, int))"
   ]
  },
  {
   "cell_type": "code",
   "execution_count": 75,
   "id": "b503ed07-dfef-479e-8814-353ade0f5962",
   "metadata": {},
   "outputs": [
    {
     "data": {
      "text/plain": [
       "True"
      ]
     },
     "execution_count": 75,
     "metadata": {},
     "output_type": "execute_result"
    }
   ],
   "source": [
    "isinstance(True, bool)"
   ]
  },
  {
   "cell_type": "markdown",
   "id": "35cb0c9d-e289-4e97-b8a0-c873b3c1e3eb",
   "metadata": {},
   "source": [
    "# Is In Operator"
   ]
  },
  {
   "cell_type": "code",
   "execution_count": 76,
   "id": "3882b23c-5681-4120-99e3-5328ef606bf2",
   "metadata": {},
   "outputs": [],
   "source": [
    "if 1 in [2,3,45]:\n",
    "    print(True)"
   ]
  },
  {
   "cell_type": "code",
   "execution_count": 77,
   "id": "b89c6911-efe6-4b7d-95a7-847cc92265ca",
   "metadata": {},
   "outputs": [
    {
     "name": "stdout",
     "output_type": "stream",
     "text": [
      "True\n"
     ]
    }
   ],
   "source": [
    "if 1 in [2,3,45, 1]:\n",
    "    print(True)"
   ]
  },
  {
   "cell_type": "code",
   "execution_count": 78,
   "id": "1c55f225-475f-4050-9607-8b0d18a6a742",
   "metadata": {},
   "outputs": [
    {
     "name": "stdout",
     "output_type": "stream",
     "text": [
      "2323\n"
     ]
    }
   ],
   "source": [
    "if None is None:\n",
    "    print(2323)"
   ]
  },
  {
   "cell_type": "code",
   "execution_count": 80,
   "id": "441c6549-47cd-487c-b78b-8a66cefba2fd",
   "metadata": {},
   "outputs": [
    {
     "name": "stdout",
     "output_type": "stream",
     "text": [
      "232\n"
     ]
    }
   ],
   "source": [
    "if \"str\" == \"str\":\n",
    "    print(232)"
   ]
  },
  {
   "cell_type": "code",
   "execution_count": 81,
   "id": "52e5fc91-9f83-4c12-8ce0-216b8eaafab1",
   "metadata": {},
   "outputs": [
    {
     "data": {
      "text/plain": [
       "True"
      ]
     },
     "execution_count": 81,
     "metadata": {},
     "output_type": "execute_result"
    }
   ],
   "source": [
    "9 in (9, 2323)"
   ]
  },
  {
   "cell_type": "code",
   "execution_count": 83,
   "id": "78dd58b8-f073-48aa-b1de-fb40f8fd3ef2",
   "metadata": {},
   "outputs": [
    {
     "data": {
      "text/plain": [
       "True"
      ]
     },
     "execution_count": 83,
     "metadata": {},
     "output_type": "execute_result"
    }
   ],
   "source": [
    "23 in {23, 90}"
   ]
  },
  {
   "cell_type": "code",
   "execution_count": 84,
   "id": "ec85b8e0-d6c3-4132-825b-185315dac159",
   "metadata": {},
   "outputs": [
    {
     "data": {
      "text/plain": [
       "False"
      ]
     },
     "execution_count": 84,
     "metadata": {},
     "output_type": "execute_result"
    }
   ],
   "source": [
    "2 in {90, 23}"
   ]
  },
  {
   "cell_type": "code",
   "execution_count": 87,
   "id": "0f6c91ee-6927-43ec-b355-4853d7ab6027",
   "metadata": {},
   "outputs": [
    {
     "data": {
      "text/plain": [
       "True"
      ]
     },
     "execution_count": 87,
     "metadata": {},
     "output_type": "execute_result"
    }
   ],
   "source": [
    "\"2323\" in {\"asd\": 2323, \"2323\": \"90090\"}"
   ]
  },
  {
   "cell_type": "markdown",
   "id": "2c16a851-5924-4ac4-9968-0dd1d52fe8ee",
   "metadata": {},
   "source": [
    "# Functions"
   ]
  },
  {
   "cell_type": "code",
   "execution_count": 89,
   "id": "649e97b1-2ff6-41c1-bfc3-1ea45f1f2aa4",
   "metadata": {},
   "outputs": [
    {
     "data": {
      "text/plain": [
       "14"
      ]
     },
     "execution_count": 89,
     "metadata": {},
     "output_type": "execute_result"
    }
   ],
   "source": [
    "def add_numbers(a, b, c, d):\n",
    "    return a + b + c + d\n",
    "\n",
    "add_numbers(1, 2, 4, 7)"
   ]
  },
  {
   "cell_type": "code",
   "execution_count": 90,
   "id": "5ad5ca71-177f-4f21-8162-543cb7891884",
   "metadata": {},
   "outputs": [
    {
     "data": {
      "text/plain": [
       "7"
      ]
     },
     "execution_count": 90,
     "metadata": {},
     "output_type": "execute_result"
    }
   ],
   "source": [
    "def add_numbers(a, b, c, d):\n",
    "    return a + b + c\n",
    "\n",
    "add_numbers(1, 2, 4, 7)"
   ]
  },
  {
   "cell_type": "code",
   "execution_count": 91,
   "id": "7835ff5c-5d30-4676-9152-e2b85c9d9804",
   "metadata": {},
   "outputs": [
    {
     "ename": "TypeError",
     "evalue": "add_numbers() missing 1 required positional argument: 'd'",
     "output_type": "error",
     "traceback": [
      "\u001b[0;31m---------------------------------------------------------------------------\u001b[0m",
      "\u001b[0;31mTypeError\u001b[0m                                 Traceback (most recent call last)",
      "Cell \u001b[0;32mIn[91], line 4\u001b[0m\n\u001b[1;32m      1\u001b[0m \u001b[38;5;28;01mdef\u001b[39;00m \u001b[38;5;21madd_numbers\u001b[39m(a, b, c, d):\n\u001b[1;32m      2\u001b[0m     \u001b[38;5;28;01mreturn\u001b[39;00m a \u001b[38;5;241m+\u001b[39m b \u001b[38;5;241m+\u001b[39m c\n\u001b[0;32m----> 4\u001b[0m \u001b[43madd_numbers\u001b[49m\u001b[43m(\u001b[49m\u001b[38;5;241;43m1\u001b[39;49m\u001b[43m,\u001b[49m\u001b[43m \u001b[49m\u001b[38;5;241;43m2\u001b[39;49m\u001b[43m,\u001b[49m\u001b[43m \u001b[49m\u001b[38;5;241;43m4\u001b[39;49m\u001b[43m)\u001b[49m\n",
      "\u001b[0;31mTypeError\u001b[0m: add_numbers() missing 1 required positional argument: 'd'"
     ]
    }
   ],
   "source": [
    "def add_numbers(a, b, c, d):\n",
    "    return a + b + c\n",
    "\n",
    "add_numbers(1, 2, 4)"
   ]
  },
  {
   "cell_type": "code",
   "execution_count": 92,
   "id": "7990e852-bf16-4c68-bd0b-3f72bc0afcbd",
   "metadata": {},
   "outputs": [
    {
     "data": {
      "text/plain": [
       "7"
      ]
     },
     "execution_count": 92,
     "metadata": {},
     "output_type": "execute_result"
    }
   ],
   "source": [
    "def add_numbers(a, b, c, d=None):\n",
    "    return a + b + c\n",
    "\n",
    "add_numbers(1, 2, 4)"
   ]
  },
  {
   "cell_type": "code",
   "execution_count": 95,
   "id": "7a0ec43d-673f-4c63-a51b-6b2b1e2b8fe6",
   "metadata": {},
   "outputs": [
    {
     "name": "stdout",
     "output_type": "stream",
     "text": [
      "7\n"
     ]
    }
   ],
   "source": [
    "def add_numbers(a=23, b=90, c=None, d=None):\n",
    "    if c is None:\n",
    "        print(a + b + d)\n",
    "    else:\n",
    "        print(a + b + c + d)\n",
    "\n",
    "add_numbers(a=1, b=2, d=4)"
   ]
  },
  {
   "cell_type": "code",
   "execution_count": 96,
   "id": "53d26f1e-216d-448d-afb8-485a66fa3444",
   "metadata": {},
   "outputs": [
    {
     "name": "stderr",
     "output_type": "stream",
     "text": [
      "<>:1: SyntaxWarning: \"is\" with a literal. Did you mean \"==\"?\n",
      "<>:1: SyntaxWarning: \"is\" with a literal. Did you mean \"==\"?\n",
      "/var/folders/86/8hjmgcsj3kx2lcz86q9x7b_m0000gp/T/ipykernel_35963/991682363.py:1: SyntaxWarning: \"is\" with a literal. Did you mean \"==\"?\n",
      "  'str' is 'str'\n"
     ]
    },
    {
     "data": {
      "text/plain": [
       "True"
      ]
     },
     "execution_count": 96,
     "metadata": {},
     "output_type": "execute_result"
    }
   ],
   "source": [
    "'str' is 'str'"
   ]
  },
  {
   "cell_type": "markdown",
   "id": "24a7861b-ab23-42fa-9672-ed3ac92968b3",
   "metadata": {},
   "source": [
    "# Loops"
   ]
  },
  {
   "cell_type": "code",
   "execution_count": 97,
   "id": "d95721ac-b37c-4b6e-970c-565d12238f46",
   "metadata": {},
   "outputs": [
    {
     "name": "stdout",
     "output_type": "stream",
     "text": [
      "1\n",
      "2\n",
      "3\n",
      "4\n",
      "5\n",
      "90\n"
     ]
    }
   ],
   "source": [
    "lis = [1,2,3,4,5,90]\n",
    "\n",
    "for i in lis:\n",
    "    print(i)"
   ]
  },
  {
   "cell_type": "code",
   "execution_count": 99,
   "id": "32d672d2-fbef-4f31-b201-d8f48faea82b",
   "metadata": {},
   "outputs": [
    {
     "name": "stdout",
     "output_type": "stream",
     "text": [
      "2\n",
      "4\n",
      "56\n",
      "34\n"
     ]
    }
   ],
   "source": [
    "a = (2,4,56,34)\n",
    "for i in a:\n",
    "    print(i)"
   ]
  },
  {
   "cell_type": "code",
   "execution_count": 100,
   "id": "890761a5-6925-40ca-b41b-50470ceedae1",
   "metadata": {},
   "outputs": [
    {
     "name": "stdout",
     "output_type": "stream",
     "text": [
      "2\n",
      "4\n",
      "5\n",
      "6\n"
     ]
    }
   ],
   "source": [
    "b = {2,4,5,6}\n",
    "for i in b:\n",
    "    print(i)"
   ]
  },
  {
   "cell_type": "code",
   "execution_count": 102,
   "id": "1ae6905c-9443-4fc5-96c7-6a91c869ea08",
   "metadata": {},
   "outputs": [
    {
     "name": "stdout",
     "output_type": "stream",
     "text": [
      "2\n",
      "3\n",
      "45\n",
      "6\n",
      "7\n"
     ]
    }
   ],
   "source": [
    "a = [2,3,45,6,7]\n",
    "i = 0\n",
    "while i!=len(a):\n",
    "    print(a[i])\n",
    "    i+=1"
   ]
  },
  {
   "cell_type": "markdown",
   "id": "e228b258-a17e-464d-a925-c9f0a9f36237",
   "metadata": {},
   "source": [
    "# Indexing and Slicing"
   ]
  },
  {
   "cell_type": "code",
   "execution_count": 103,
   "id": "8d4e230a-c70d-4733-b9f5-e898d69e5b0a",
   "metadata": {},
   "outputs": [
    {
     "data": {
      "text/plain": [
       "'I'"
      ]
     },
     "execution_count": 103,
     "metadata": {},
     "output_type": "execute_result"
    }
   ],
   "source": [
    "st = \"I am muhammad rafeh\"\n",
    "st[0]"
   ]
  },
  {
   "cell_type": "code",
   "execution_count": 104,
   "id": "be0b3a9c-0aa4-43db-9c31-d2d46d1bcb87",
   "metadata": {},
   "outputs": [
    {
     "data": {
      "text/plain": [
       "'muhammad rafeh'"
      ]
     },
     "execution_count": 104,
     "metadata": {},
     "output_type": "execute_result"
    }
   ],
   "source": [
    "st[5: 19]"
   ]
  },
  {
   "cell_type": "code",
   "execution_count": 105,
   "id": "89aa8ceb-19e8-437f-9f11-b9ade5c9ba9c",
   "metadata": {},
   "outputs": [
    {
     "data": {
      "text/plain": [
       "1"
      ]
     },
     "execution_count": 105,
     "metadata": {},
     "output_type": "execute_result"
    }
   ],
   "source": [
    "a = [1,2,3,4,5,6,7]\n",
    "\n",
    "a[0]"
   ]
  },
  {
   "cell_type": "code",
   "execution_count": 106,
   "id": "ea6ecc7f-0d78-4fd4-800a-4047e2f0c1f4",
   "metadata": {},
   "outputs": [
    {
     "data": {
      "text/plain": [
       "7"
      ]
     },
     "execution_count": 106,
     "metadata": {},
     "output_type": "execute_result"
    }
   ],
   "source": [
    "a[-1]"
   ]
  },
  {
   "cell_type": "code",
   "execution_count": 107,
   "id": "d8fea7c5-bce8-4945-a79f-b38c5b4287da",
   "metadata": {},
   "outputs": [
    {
     "data": {
      "text/plain": [
       "[]"
      ]
     },
     "execution_count": 107,
     "metadata": {},
     "output_type": "execute_result"
    }
   ],
   "source": [
    "a[-2: -4]"
   ]
  },
  {
   "cell_type": "code",
   "execution_count": 108,
   "id": "edbff576-5855-4048-a3dd-1a436e06b040",
   "metadata": {},
   "outputs": [
    {
     "data": {
      "text/plain": [
       "[4, 5]"
      ]
     },
     "execution_count": 108,
     "metadata": {},
     "output_type": "execute_result"
    }
   ],
   "source": [
    "a[-4: -2]"
   ]
  },
  {
   "cell_type": "code",
   "execution_count": 109,
   "id": "ef4cbb33-db62-4d90-bae4-b1066db7e65b",
   "metadata": {},
   "outputs": [
    {
     "data": {
      "text/plain": [
       "[3, 4, 5, 6, 7]"
      ]
     },
     "execution_count": 109,
     "metadata": {},
     "output_type": "execute_result"
    }
   ],
   "source": [
    "a[2:]"
   ]
  },
  {
   "cell_type": "code",
   "execution_count": 111,
   "id": "c6520234-f976-4961-8d83-dba74801988d",
   "metadata": {},
   "outputs": [
    {
     "data": {
      "text/plain": [
       "[1, 2, 3, 4]"
      ]
     },
     "execution_count": 111,
     "metadata": {},
     "output_type": "execute_result"
    }
   ],
   "source": [
    "a[:4]"
   ]
  },
  {
   "cell_type": "code",
   "execution_count": 129,
   "id": "0e94f733-10cf-4607-a6f2-b1c5d73bdbb7",
   "metadata": {},
   "outputs": [],
   "source": [
    "lis = [1,2,4, [90,2323,345, [9090, [23232323, [\"Grab Me\"]]]]]"
   ]
  },
  {
   "cell_type": "code",
   "execution_count": 138,
   "id": "47668efd-4413-4b63-83f1-9fb69faaba51",
   "metadata": {},
   "outputs": [
    {
     "data": {
      "text/plain": [
       "'Grab Me'"
      ]
     },
     "execution_count": 138,
     "metadata": {},
     "output_type": "execute_result"
    }
   ],
   "source": [
    "lis[3][3][1][1][-1]"
   ]
  },
  {
   "cell_type": "code",
   "execution_count": 139,
   "id": "86401b97-809a-4172-bbe2-0bd2129c2924",
   "metadata": {},
   "outputs": [],
   "source": [
    "lis = ['asd', (2323), {2323,23232}]"
   ]
  },
  {
   "cell_type": "code",
   "execution_count": 140,
   "id": "f3dc00c4-94e0-4a97-bd80-a34997bc3399",
   "metadata": {},
   "outputs": [],
   "source": [
    "lis.append(90)"
   ]
  },
  {
   "cell_type": "code",
   "execution_count": 141,
   "id": "b75ad22f-d9ca-40a0-8e20-d822a25f4eeb",
   "metadata": {},
   "outputs": [
    {
     "name": "stdout",
     "output_type": "stream",
     "text": [
      "['asd', 2323, {23232, 2323}, 90]\n"
     ]
    }
   ],
   "source": [
    "print(lis)"
   ]
  },
  {
   "cell_type": "code",
   "execution_count": 143,
   "id": "0a67d085-0434-416a-a834-de75b2232cd2",
   "metadata": {},
   "outputs": [
    {
     "data": {
      "text/plain": [
       "90"
      ]
     },
     "execution_count": 143,
     "metadata": {},
     "output_type": "execute_result"
    }
   ],
   "source": [
    "lis.pop()"
   ]
  },
  {
   "cell_type": "code",
   "execution_count": 144,
   "id": "1da56ee4-7399-4b3d-b7ec-be8f2671c064",
   "metadata": {},
   "outputs": [
    {
     "data": {
      "text/plain": [
       "['asd', 2323, {2323, 23232}]"
      ]
     },
     "execution_count": 144,
     "metadata": {},
     "output_type": "execute_result"
    }
   ],
   "source": [
    "lis"
   ]
  },
  {
   "cell_type": "code",
   "execution_count": 148,
   "id": "1fbf664f-c072-4aff-82fe-007b4167d4b9",
   "metadata": {},
   "outputs": [
    {
     "name": "stdout",
     "output_type": "stream",
     "text": [
      "[5, 4, 4, 2]\n"
     ]
    }
   ],
   "source": [
    "a = [5,4,2,4]\n",
    "a.sort(reverse=True)\n",
    "print(a)"
   ]
  },
  {
   "cell_type": "code",
   "execution_count": 151,
   "id": "26364acd-afbb-43e8-a1d9-4fa7357af11c",
   "metadata": {},
   "outputs": [],
   "source": [
    "a = [\"asd\", \"23\", 23, (2323)]\n",
    "a.reverse()"
   ]
  },
  {
   "cell_type": "code",
   "execution_count": 152,
   "id": "094cf0f4-6e79-4f72-8d51-0c2267843146",
   "metadata": {},
   "outputs": [
    {
     "data": {
      "text/plain": [
       "[2323, 23, '23', 'asd']"
      ]
     },
     "execution_count": 152,
     "metadata": {},
     "output_type": "execute_result"
    }
   ],
   "source": [
    "a"
   ]
  },
  {
   "cell_type": "code",
   "execution_count": 153,
   "id": "d48f1e8e-103b-48da-b2f3-8158e00bb3f2",
   "metadata": {},
   "outputs": [],
   "source": [
    "a = [1,2,4]"
   ]
  },
  {
   "cell_type": "code",
   "execution_count": 154,
   "id": "2269c015-b524-4ace-af3f-5902b684bc17",
   "metadata": {},
   "outputs": [
    {
     "data": {
      "text/plain": [
       "[1, 2, 4]"
      ]
     },
     "execution_count": 154,
     "metadata": {},
     "output_type": "execute_result"
    }
   ],
   "source": [
    "a"
   ]
  },
  {
   "cell_type": "code",
   "execution_count": 155,
   "id": "db697b93-c951-430c-ae17-3031588f341b",
   "metadata": {},
   "outputs": [],
   "source": [
    "a.insert(1, 90)"
   ]
  },
  {
   "cell_type": "code",
   "execution_count": 156,
   "id": "3aecb310-e1d7-463f-87d9-02e43edf100a",
   "metadata": {},
   "outputs": [
    {
     "data": {
      "text/plain": [
       "[1, 90, 2, 4]"
      ]
     },
     "execution_count": 156,
     "metadata": {},
     "output_type": "execute_result"
    }
   ],
   "source": [
    "a"
   ]
  },
  {
   "cell_type": "code",
   "execution_count": 157,
   "id": "85f4cc74-54cc-492b-bc98-bdbda50b43c5",
   "metadata": {},
   "outputs": [
    {
     "data": {
      "text/plain": [
       "[1, 2, 3, 4, 5]"
      ]
     },
     "execution_count": 157,
     "metadata": {},
     "output_type": "execute_result"
    }
   ],
   "source": [
    "a = [1,2,3,4,5]\n",
    "a"
   ]
  },
  {
   "cell_type": "code",
   "execution_count": 158,
   "id": "79ea90d9-9502-48e4-ac79-445702eb7f81",
   "metadata": {},
   "outputs": [],
   "source": [
    "b = a"
   ]
  },
  {
   "cell_type": "code",
   "execution_count": 159,
   "id": "f490e02e-30c8-457e-aaeb-b357ef03e0b4",
   "metadata": {},
   "outputs": [
    {
     "data": {
      "text/plain": [
       "[1, 2, 3, 4, 5]"
      ]
     },
     "execution_count": 159,
     "metadata": {},
     "output_type": "execute_result"
    }
   ],
   "source": [
    "b"
   ]
  },
  {
   "cell_type": "code",
   "execution_count": 160,
   "id": "ef9a641a-7687-4b7c-8c38-47a39ede0cbe",
   "metadata": {},
   "outputs": [],
   "source": [
    "b[0] = 40"
   ]
  },
  {
   "cell_type": "code",
   "execution_count": 161,
   "id": "37138dc0-e8a4-42f0-9cf5-9af2f1acf66d",
   "metadata": {},
   "outputs": [
    {
     "data": {
      "text/plain": [
       "[40, 2, 3, 4, 5]"
      ]
     },
     "execution_count": 161,
     "metadata": {},
     "output_type": "execute_result"
    }
   ],
   "source": [
    "b"
   ]
  },
  {
   "cell_type": "code",
   "execution_count": 162,
   "id": "ce3b6889-bed0-4ee5-b2fb-a6fb1b2a26a2",
   "metadata": {},
   "outputs": [
    {
     "data": {
      "text/plain": [
       "[40, 2, 3, 4, 5]"
      ]
     },
     "execution_count": 162,
     "metadata": {},
     "output_type": "execute_result"
    }
   ],
   "source": [
    "a"
   ]
  },
  {
   "cell_type": "code",
   "execution_count": 163,
   "id": "4019e610-8ea4-4ef9-8902-f6c43c141ada",
   "metadata": {},
   "outputs": [],
   "source": [
    "a = [2323,3434]"
   ]
  },
  {
   "cell_type": "code",
   "execution_count": 164,
   "id": "f409f843-8e15-4d7e-a212-fde9f3a1bf27",
   "metadata": {},
   "outputs": [],
   "source": [
    "b = a.copy()"
   ]
  },
  {
   "cell_type": "code",
   "execution_count": 165,
   "id": "71823667-e043-4cde-9500-543cb01e35af",
   "metadata": {},
   "outputs": [],
   "source": [
    "b[0] = 90"
   ]
  },
  {
   "cell_type": "code",
   "execution_count": 166,
   "id": "6b3da5e0-8eab-4d7e-99c4-ed3a2c9d5d66",
   "metadata": {},
   "outputs": [
    {
     "data": {
      "text/plain": [
       "[2323, 3434]"
      ]
     },
     "execution_count": 166,
     "metadata": {},
     "output_type": "execute_result"
    }
   ],
   "source": [
    "a"
   ]
  },
  {
   "cell_type": "code",
   "execution_count": 167,
   "id": "166d9dca-f91f-438a-ac19-4f137b786339",
   "metadata": {},
   "outputs": [
    {
     "data": {
      "text/plain": [
       "[90, 3434]"
      ]
     },
     "execution_count": 167,
     "metadata": {},
     "output_type": "execute_result"
    }
   ],
   "source": [
    "b"
   ]
  },
  {
   "cell_type": "code",
   "execution_count": 168,
   "id": "3ab05d0a-010e-4b8d-b8f8-e02f8b35df8f",
   "metadata": {},
   "outputs": [],
   "source": [
    "a = [23,34,34]\n",
    "b = [*a]"
   ]
  },
  {
   "cell_type": "code",
   "execution_count": 169,
   "id": "b43247e9-a953-4b5a-be6f-ada8d382a414",
   "metadata": {},
   "outputs": [
    {
     "data": {
      "text/plain": [
       "[23, 34, 34]"
      ]
     },
     "execution_count": 169,
     "metadata": {},
     "output_type": "execute_result"
    }
   ],
   "source": [
    "b"
   ]
  },
  {
   "cell_type": "code",
   "execution_count": 170,
   "id": "97b28287-e324-41be-bee8-08f54ff9235d",
   "metadata": {},
   "outputs": [
    {
     "ename": "SyntaxError",
     "evalue": "cannot use starred expression here (4034701567.py, line 2)",
     "output_type": "error",
     "traceback": [
      "\u001b[0;36m  Cell \u001b[0;32mIn[170], line 2\u001b[0;36m\u001b[0m\n\u001b[0;31m    p = (*b)\u001b[0m\n\u001b[0m         ^\u001b[0m\n\u001b[0;31mSyntaxError\u001b[0m\u001b[0;31m:\u001b[0m cannot use starred expression here\n"
     ]
    }
   ],
   "source": [
    "b = (2,4,6,7)\n",
    "p = (*b)"
   ]
  },
  {
   "cell_type": "code",
   "execution_count": 171,
   "id": "9c8d5c1e-0acd-4bb2-8421-8b9946f63bfb",
   "metadata": {},
   "outputs": [],
   "source": [
    "a = {1,2,3,4}\n",
    "b = {*a}"
   ]
  },
  {
   "cell_type": "code",
   "execution_count": 172,
   "id": "54ecde58-06ee-4ceb-8825-0ba7594c017a",
   "metadata": {},
   "outputs": [
    {
     "data": {
      "text/plain": [
       "{1, 2, 3, 4}"
      ]
     },
     "execution_count": 172,
     "metadata": {},
     "output_type": "execute_result"
    }
   ],
   "source": [
    "b"
   ]
  },
  {
   "cell_type": "markdown",
   "id": "f9ea83f0-6c32-45af-b6b4-877b5e9589eb",
   "metadata": {},
   "source": [
    "# Dictionaries"
   ]
  },
  {
   "cell_type": "code",
   "execution_count": 174,
   "id": "4a709088-94d1-471c-a8bd-6cef00821831",
   "metadata": {},
   "outputs": [],
   "source": [
    "a = {\"rafeh\": 90, 9: 90}"
   ]
  },
  {
   "cell_type": "code",
   "execution_count": 175,
   "id": "54991a0a-4049-4668-b7da-42c763358c13",
   "metadata": {},
   "outputs": [],
   "source": [
    "user_data = {'Name': \"Muhammad Rafeh\", \"Age\": 50, \"location\": \"Haripur\"}"
   ]
  },
  {
   "cell_type": "code",
   "execution_count": 176,
   "id": "8e220f0a-e3ac-4f63-8abe-773919bed13b",
   "metadata": {},
   "outputs": [
    {
     "data": {
      "text/plain": [
       "{'Name': 'Muhammad Rafeh', 'Age': 50, 'location': 'Haripur'}"
      ]
     },
     "execution_count": 176,
     "metadata": {},
     "output_type": "execute_result"
    }
   ],
   "source": [
    "user_data"
   ]
  },
  {
   "cell_type": "code",
   "execution_count": 177,
   "id": "ee248260-8286-453c-9036-d11dbf7a4a66",
   "metadata": {},
   "outputs": [
    {
     "data": {
      "text/plain": [
       "'Muhammad Rafeh'"
      ]
     },
     "execution_count": 177,
     "metadata": {},
     "output_type": "execute_result"
    }
   ],
   "source": [
    "user_data[\"Name\"]"
   ]
  },
  {
   "cell_type": "code",
   "execution_count": 178,
   "id": "f6ba71d8-e05c-408b-b546-496084950df2",
   "metadata": {},
   "outputs": [
    {
     "ename": "KeyError",
     "evalue": "0",
     "output_type": "error",
     "traceback": [
      "\u001b[0;31m---------------------------------------------------------------------------\u001b[0m",
      "\u001b[0;31mKeyError\u001b[0m                                  Traceback (most recent call last)",
      "Cell \u001b[0;32mIn[178], line 1\u001b[0m\n\u001b[0;32m----> 1\u001b[0m \u001b[43muser_data\u001b[49m\u001b[43m[\u001b[49m\u001b[38;5;241;43m0\u001b[39;49m\u001b[43m]\u001b[49m\n",
      "\u001b[0;31mKeyError\u001b[0m: 0"
     ]
    }
   ],
   "source": [
    "user_data[0]"
   ]
  },
  {
   "cell_type": "code",
   "execution_count": 182,
   "id": "7f17806e-4be6-4d8b-97b8-50f9380922be",
   "metadata": {},
   "outputs": [
    {
     "data": {
      "text/plain": [
       "4"
      ]
     },
     "execution_count": 182,
     "metadata": {},
     "output_type": "execute_result"
    }
   ],
   "source": [
    "t = (2,3,4)\n",
    "t[2]"
   ]
  },
  {
   "cell_type": "code",
   "execution_count": 183,
   "id": "688b96e1-eb28-468c-a25c-151ce7658abf",
   "metadata": {},
   "outputs": [],
   "source": [
    "user_data[\"education\"] = \"BS in Computer Science\""
   ]
  },
  {
   "cell_type": "code",
   "execution_count": 184,
   "id": "88ef0c9e-63c3-4c66-9f6f-d4279329ac53",
   "metadata": {},
   "outputs": [
    {
     "data": {
      "text/plain": [
       "{'Name': 'Muhammad Rafeh',\n",
       " 'Age': 50,\n",
       " 'location': 'Haripur',\n",
       " 'education': 'BS in Computer Science'}"
      ]
     },
     "execution_count": 184,
     "metadata": {},
     "output_type": "execute_result"
    }
   ],
   "source": [
    "user_data"
   ]
  },
  {
   "cell_type": "code",
   "execution_count": 185,
   "id": "72fadb56-0ffd-452a-b19e-cf7994e1e1b4",
   "metadata": {},
   "outputs": [
    {
     "name": "stdout",
     "output_type": "stream",
     "text": [
      "Name\n",
      "Age\n",
      "location\n",
      "education\n"
     ]
    }
   ],
   "source": [
    "for i in user_data:\n",
    "    print(i)"
   ]
  },
  {
   "cell_type": "code",
   "execution_count": 186,
   "id": "93ede2b4-30ed-499f-927d-496a600c26ae",
   "metadata": {},
   "outputs": [
    {
     "data": {
      "text/plain": [
       "dict_keys(['Name', 'Age', 'location', 'education'])"
      ]
     },
     "execution_count": 186,
     "metadata": {},
     "output_type": "execute_result"
    }
   ],
   "source": [
    "user_data.keys()"
   ]
  },
  {
   "cell_type": "code",
   "execution_count": 187,
   "id": "3fafd4ac-c0ac-4f32-a33d-8540e09d15fd",
   "metadata": {},
   "outputs": [
    {
     "data": {
      "text/plain": [
       "dict_values(['Muhammad Rafeh', 50, 'Haripur', 'BS in Computer Science'])"
      ]
     },
     "execution_count": 187,
     "metadata": {},
     "output_type": "execute_result"
    }
   ],
   "source": [
    "user_data.values()"
   ]
  },
  {
   "cell_type": "code",
   "execution_count": 188,
   "id": "68c008dd-5025-4bc7-81d7-73bc4f773930",
   "metadata": {},
   "outputs": [
    {
     "name": "stdout",
     "output_type": "stream",
     "text": [
      "Name\n",
      "Age\n",
      "location\n",
      "education\n"
     ]
    }
   ],
   "source": [
    "for i in user_data.keys():\n",
    "    print(i)"
   ]
  },
  {
   "cell_type": "code",
   "execution_count": 189,
   "id": "eb036a4a-eaec-4bec-8d87-c6338f06a828",
   "metadata": {},
   "outputs": [
    {
     "name": "stdout",
     "output_type": "stream",
     "text": [
      "Muhammad Rafeh\n",
      "50\n",
      "Haripur\n",
      "BS in Computer Science\n"
     ]
    }
   ],
   "source": [
    "for i in user_data.values():\n",
    "    print(i)"
   ]
  },
  {
   "cell_type": "code",
   "execution_count": 194,
   "id": "95bb9a27-f645-4a04-8eff-6d4f2143a344",
   "metadata": {},
   "outputs": [
    {
     "name": "stdout",
     "output_type": "stream",
     "text": [
      "Name Muhammad Rafeh\n",
      "Age 50\n",
      "location Haripur\n",
      "education BS in Computer Science\n"
     ]
    }
   ],
   "source": [
    "for key, value in user_data.items():\n",
    "    print(key, value)"
   ]
  },
  {
   "cell_type": "code",
   "execution_count": 195,
   "id": "0ccc042c-581a-42eb-b56e-728c4f43f909",
   "metadata": {},
   "outputs": [
    {
     "data": {
      "text/plain": [
       "<zip at 0x12055f100>"
      ]
     },
     "execution_count": 195,
     "metadata": {},
     "output_type": "execute_result"
    }
   ],
   "source": [
    "zip(user_data.keys(), user_data.values())"
   ]
  },
  {
   "cell_type": "code",
   "execution_count": 197,
   "id": "a178692d-4782-4747-b773-82742f57ad22",
   "metadata": {},
   "outputs": [
    {
     "name": "stdout",
     "output_type": "stream",
     "text": [
      "Name Muhammad Rafeh\n",
      "Age 50\n",
      "location Haripur\n",
      "education BS in Computer Science\n"
     ]
    }
   ],
   "source": [
    "for key, value in zip(user_data.keys(), user_data.values()):\n",
    "    print(key, value)"
   ]
  },
  {
   "cell_type": "markdown",
   "id": "793236b4-0ff0-40b8-888a-9080460a16e4",
   "metadata": {},
   "source": [
    "# Unpackings"
   ]
  },
  {
   "cell_type": "code",
   "execution_count": 199,
   "id": "d4f0c63c-8796-4e92-ac6a-f47da7d473ed",
   "metadata": {},
   "outputs": [],
   "source": [
    "a = (2,3,5,6)\n",
    "first, second, t, h = a"
   ]
  },
  {
   "cell_type": "code",
   "execution_count": 200,
   "id": "875fb40b-b9e0-4f51-ad71-7ff3cce3f78a",
   "metadata": {},
   "outputs": [
    {
     "data": {
      "text/plain": [
       "2"
      ]
     },
     "execution_count": 200,
     "metadata": {},
     "output_type": "execute_result"
    }
   ],
   "source": [
    "first"
   ]
  },
  {
   "cell_type": "code",
   "execution_count": 201,
   "id": "dda955c3-2e4c-4bce-aa1b-c96398da45c5",
   "metadata": {},
   "outputs": [
    {
     "ename": "ValueError",
     "evalue": "too many values to unpack (expected 3)",
     "output_type": "error",
     "traceback": [
      "\u001b[0;31m---------------------------------------------------------------------------\u001b[0m",
      "\u001b[0;31mValueError\u001b[0m                                Traceback (most recent call last)",
      "Cell \u001b[0;32mIn[201], line 1\u001b[0m\n\u001b[0;32m----> 1\u001b[0m a, b, c \u001b[38;5;241m=\u001b[39m a\n",
      "\u001b[0;31mValueError\u001b[0m: too many values to unpack (expected 3)"
     ]
    }
   ],
   "source": [
    "a, b, c = a"
   ]
  },
  {
   "cell_type": "code",
   "execution_count": 207,
   "id": "fae8282c-06a9-4afa-8935-509dbb4ae536",
   "metadata": {},
   "outputs": [],
   "source": [
    "a = [2,4,5,6]\n",
    "b, e, t, h = a"
   ]
  },
  {
   "cell_type": "code",
   "execution_count": 203,
   "id": "f5a69154-9e3d-4f88-8053-94046960690b",
   "metadata": {},
   "outputs": [
    {
     "data": {
      "text/plain": [
       "2"
      ]
     },
     "execution_count": 203,
     "metadata": {},
     "output_type": "execute_result"
    }
   ],
   "source": [
    "b"
   ]
  },
  {
   "cell_type": "code",
   "execution_count": 204,
   "id": "44ebd6f2-17bd-4e0e-bafd-c33a6962dde4",
   "metadata": {},
   "outputs": [
    {
     "data": {
      "text/plain": [
       "5"
      ]
     },
     "execution_count": 204,
     "metadata": {},
     "output_type": "execute_result"
    }
   ],
   "source": [
    "t"
   ]
  },
  {
   "cell_type": "code",
   "execution_count": 205,
   "id": "128f8cf2-96ae-4cd1-acac-b5fbd43a002f",
   "metadata": {},
   "outputs": [
    {
     "data": {
      "text/plain": [
       "6"
      ]
     },
     "execution_count": 205,
     "metadata": {},
     "output_type": "execute_result"
    }
   ],
   "source": [
    "h"
   ]
  },
  {
   "cell_type": "markdown",
   "id": "026da062-3c13-4226-af9c-7732493afade",
   "metadata": {},
   "source": [
    "# Some another functions"
   ]
  },
  {
   "cell_type": "code",
   "execution_count": 208,
   "id": "81598b35-5fcc-44af-b451-272c50505abd",
   "metadata": {},
   "outputs": [
    {
     "data": {
      "text/plain": [
       "9"
      ]
     },
     "execution_count": 208,
     "metadata": {},
     "output_type": "execute_result"
    }
   ],
   "source": [
    "int(9.0)"
   ]
  },
  {
   "cell_type": "code",
   "execution_count": 210,
   "id": "d40c5ad0-d9bb-4a31-91fb-91fb86ad4ea4",
   "metadata": {},
   "outputs": [
    {
     "data": {
      "text/plain": [
       "22.0"
      ]
     },
     "execution_count": 210,
     "metadata": {},
     "output_type": "execute_result"
    }
   ],
   "source": [
    "float(22)"
   ]
  },
  {
   "cell_type": "code",
   "execution_count": 211,
   "id": "4b45eeae-09d2-48fb-b6c5-e5fec98c26ac",
   "metadata": {},
   "outputs": [
    {
     "data": {
      "text/plain": [
       "'2323'"
      ]
     },
     "execution_count": 211,
     "metadata": {},
     "output_type": "execute_result"
    }
   ],
   "source": [
    "str(2323)"
   ]
  },
  {
   "cell_type": "code",
   "execution_count": 212,
   "id": "2edbdff9-0a7a-4a04-9533-e0d87f95c24f",
   "metadata": {},
   "outputs": [
    {
     "data": {
      "text/plain": [
       "'False'"
      ]
     },
     "execution_count": 212,
     "metadata": {},
     "output_type": "execute_result"
    }
   ],
   "source": [
    "str(False)"
   ]
  },
  {
   "cell_type": "code",
   "execution_count": 213,
   "id": "7184bce5-d6ec-42fb-a538-7111658468c4",
   "metadata": {},
   "outputs": [
    {
     "data": {
      "text/plain": [
       "True"
      ]
     },
     "execution_count": 213,
     "metadata": {},
     "output_type": "execute_result"
    }
   ],
   "source": [
    "bool(True)"
   ]
  },
  {
   "cell_type": "code",
   "execution_count": 215,
   "id": "fa450818-31b1-4b34-b252-897040a830f1",
   "metadata": {},
   "outputs": [
    {
     "data": {
      "text/plain": [
       "{2, 3, 4}"
      ]
     },
     "execution_count": 215,
     "metadata": {},
     "output_type": "execute_result"
    }
   ],
   "source": [
    "set([2,3,4])"
   ]
  },
  {
   "cell_type": "code",
   "execution_count": 217,
   "id": "6e3abcd8-3350-40f1-8493-680c4cf36242",
   "metadata": {},
   "outputs": [
    {
     "data": {
      "text/plain": [
       "[2, 3, 5]"
      ]
     },
     "execution_count": 217,
     "metadata": {},
     "output_type": "execute_result"
    }
   ],
   "source": [
    "list({2,3,5})"
   ]
  },
  {
   "cell_type": "code",
   "execution_count": 219,
   "id": "f642e49c-17a8-4aaf-a5b2-40f16c5e313b",
   "metadata": {},
   "outputs": [
    {
     "data": {
      "text/plain": [
       "['a']"
      ]
     },
     "execution_count": 219,
     "metadata": {},
     "output_type": "execute_result"
    }
   ],
   "source": [
    "list({'a': 2})"
   ]
  },
  {
   "cell_type": "code",
   "execution_count": 221,
   "id": "420ac925-29ad-43a3-8bb1-df40fe13c2f3",
   "metadata": {},
   "outputs": [
    {
     "data": {
      "text/plain": [
       "[90]"
      ]
     },
     "execution_count": 221,
     "metadata": {},
     "output_type": "execute_result"
    }
   ],
   "source": [
    "a = {\"asd\": 90}\n",
    "list(a.values())"
   ]
  },
  {
   "cell_type": "code",
   "execution_count": 222,
   "id": "d5a01c61-35ff-4fbf-9487-2042e1590686",
   "metadata": {},
   "outputs": [
    {
     "name": "stdout",
     "output_type": "stream",
     "text": [
      "90\n"
     ]
    }
   ],
   "source": [
    "for i in a.values():\n",
    "    print(i)"
   ]
  },
  {
   "cell_type": "markdown",
   "id": "6cc9eeca-6f9c-4f2f-bda9-d85f8b9c55cd",
   "metadata": {},
   "source": [
    "# More on Strings"
   ]
  },
  {
   "cell_type": "code",
   "execution_count": 225,
   "id": "4008bd58-5944-4599-b352-db8a3bc5d5e6",
   "metadata": {},
   "outputs": [
    {
     "name": "stdout",
     "output_type": "stream",
     "text": [
      "Rafeh is a great guy who is 30\n"
     ]
    }
   ],
   "source": [
    "user = {\"Name\": \"Rafeh\", \"Age\": 30}\n",
    "\n",
    "print(\"{} is a great guy who is {}\".format(user[\"Name\"], user[\"Age\"]))"
   ]
  },
  {
   "cell_type": "code",
   "execution_count": 234,
   "id": "f3cc938f-8314-41b6-949c-8c92f20fd8d3",
   "metadata": {},
   "outputs": [
    {
     "data": {
      "text/plain": [
       "'Rafeh is a great guy who is 30'"
      ]
     },
     "execution_count": 234,
     "metadata": {},
     "output_type": "execute_result"
    }
   ],
   "source": [
    "f\"{user['Name']} is a great guy who is {user['Age']}\""
   ]
  },
  {
   "cell_type": "code",
   "execution_count": 236,
   "id": "5d2dec58-ad5c-45ba-87e8-33ccfb705c99",
   "metadata": {},
   "outputs": [
    {
     "name": "stdout",
     "output_type": "stream",
     "text": [
      "Muhammad Atique\n"
     ]
    }
   ],
   "source": [
    "name  = \"Muhammad Akif\".split(\" \")[0]\n",
    "second_name = \"Rafeh Atique\".split(\" \")[1]\n",
    "\n",
    "print(name + \" \" + second_name)"
   ]
  },
  {
   "cell_type": "markdown",
   "id": "6a210949-1f9c-459b-bc8c-7720588273d0",
   "metadata": {},
   "source": [
    "# Some Math Functions"
   ]
  },
  {
   "cell_type": "code",
   "execution_count": 237,
   "id": "7a0b5713-04b9-468d-b53f-f31dc656515a",
   "metadata": {},
   "outputs": [
    {
     "data": {
      "text/plain": [
       "2"
      ]
     },
     "execution_count": 237,
     "metadata": {},
     "output_type": "execute_result"
    }
   ],
   "source": [
    "min([2,3,4,5])"
   ]
  },
  {
   "cell_type": "code",
   "execution_count": 238,
   "id": "0b71f92e-03e2-419e-8686-37ee78ddd639",
   "metadata": {},
   "outputs": [
    {
     "data": {
      "text/plain": [
       "8"
      ]
     },
     "execution_count": 238,
     "metadata": {},
     "output_type": "execute_result"
    }
   ],
   "source": [
    "max([3,6,3,6,8])"
   ]
  },
  {
   "cell_type": "code",
   "execution_count": 239,
   "id": "2a465e00-ebc4-4fdb-a9b5-b414d65f8d31",
   "metadata": {},
   "outputs": [
    {
     "data": {
      "text/plain": [
       "90"
      ]
     },
     "execution_count": 239,
     "metadata": {},
     "output_type": "execute_result"
    }
   ],
   "source": [
    "abs(90)"
   ]
  },
  {
   "cell_type": "code",
   "execution_count": 240,
   "id": "162d9dd2-521a-48bc-987a-0fb4f380092d",
   "metadata": {},
   "outputs": [
    {
     "data": {
      "text/plain": [
       "90"
      ]
     },
     "execution_count": 240,
     "metadata": {},
     "output_type": "execute_result"
    }
   ],
   "source": [
    "abs(-90)"
   ]
  },
  {
   "cell_type": "code",
   "execution_count": 244,
   "id": "aa0d1e7d-5cc3-4dd6-8842-0d29eb73b555",
   "metadata": {},
   "outputs": [
    {
     "ename": "NameError",
     "evalue": "name 'floor' is not defined",
     "output_type": "error",
     "traceback": [
      "\u001b[0;31m---------------------------------------------------------------------------\u001b[0m",
      "\u001b[0;31mNameError\u001b[0m                                 Traceback (most recent call last)",
      "Cell \u001b[0;32mIn[244], line 1\u001b[0m\n\u001b[0;32m----> 1\u001b[0m \u001b[43mfloor\u001b[49m(\u001b[38;5;241m20\u001b[39m)\n",
      "\u001b[0;31mNameError\u001b[0m: name 'floor' is not defined"
     ]
    }
   ],
   "source": [
    "floor(20)"
   ]
  },
  {
   "cell_type": "code",
   "execution_count": 243,
   "id": "7a6ffcb4-1e6a-49df-9c03-32e2e67a58c3",
   "metadata": {},
   "outputs": [],
   "source": [
    "import math"
   ]
  },
  {
   "cell_type": "code",
   "execution_count": 246,
   "id": "958d656d-5b61-4be8-a301-8a7d87e3774a",
   "metadata": {},
   "outputs": [
    {
     "data": {
      "text/plain": [
       "20"
      ]
     },
     "execution_count": 246,
     "metadata": {},
     "output_type": "execute_result"
    }
   ],
   "source": [
    "math.floor(20.2)"
   ]
  },
  {
   "cell_type": "code",
   "execution_count": 247,
   "id": "1a842f95-4034-49c1-b817-05d00b73139c",
   "metadata": {},
   "outputs": [
    {
     "data": {
      "text/plain": [
       "21"
      ]
     },
     "execution_count": 247,
     "metadata": {},
     "output_type": "execute_result"
    }
   ],
   "source": [
    "math.ceil(20.2)"
   ]
  },
  {
   "cell_type": "code",
   "execution_count": 248,
   "id": "05bb923e-f982-4af7-9a67-502e8a36d500",
   "metadata": {},
   "outputs": [
    {
     "data": {
      "text/plain": [
       "1.4142135623730951"
      ]
     },
     "execution_count": 248,
     "metadata": {},
     "output_type": "execute_result"
    }
   ],
   "source": [
    "math.sqrt(2)"
   ]
  },
  {
   "cell_type": "markdown",
   "id": "c1b95a25-dcf0-42b2-b04a-0ebbd2275946",
   "metadata": {},
   "source": [
    "# Lambda Functions"
   ]
  },
  {
   "cell_type": "code",
   "execution_count": 255,
   "id": "bc66c93c-5f42-4e36-9eba-a37fa7ec9a64",
   "metadata": {},
   "outputs": [],
   "source": [
    "my_fun = lambda x, y, p: x + y + p"
   ]
  },
  {
   "cell_type": "code",
   "execution_count": 257,
   "id": "9299ebf8-abff-48cd-9f7f-8f5be878a516",
   "metadata": {},
   "outputs": [
    {
     "data": {
      "text/plain": [
       "37"
      ]
     },
     "execution_count": 257,
     "metadata": {},
     "output_type": "execute_result"
    }
   ],
   "source": [
    "my_fun(1,2,34)"
   ]
  },
  {
   "cell_type": "code",
   "execution_count": 259,
   "id": "69dd6b93-0ef1-477b-808a-d86095a5d8d4",
   "metadata": {},
   "outputs": [],
   "source": [
    "my_fun = lambda x, y, p, t=None: x + y + p"
   ]
  },
  {
   "cell_type": "code",
   "execution_count": 260,
   "id": "4d1e2036-56ea-4e7e-84c6-c7004fe0bc77",
   "metadata": {},
   "outputs": [
    {
     "data": {
      "text/plain": [
       "37"
      ]
     },
     "execution_count": 260,
     "metadata": {},
     "output_type": "execute_result"
    }
   ],
   "source": [
    "my_fun(1,2,34)"
   ]
  },
  {
   "cell_type": "code",
   "execution_count": 267,
   "id": "8f3b77b6-e39a-4150-adc4-dbf09008dc2e",
   "metadata": {},
   "outputs": [],
   "source": [
    "my_fun = lambda x, y, p, t=None: x + y + p if t == None else \"t is no more none\""
   ]
  },
  {
   "cell_type": "code",
   "execution_count": 269,
   "id": "fdd3b923-d59e-4be1-ad58-0b03989e5cb1",
   "metadata": {},
   "outputs": [
    {
     "data": {
      "text/plain": [
       "6"
      ]
     },
     "execution_count": 269,
     "metadata": {},
     "output_type": "execute_result"
    }
   ],
   "source": [
    "my_fun(1,2,3)"
   ]
  },
  {
   "cell_type": "markdown",
   "id": "c39ead73-0bce-4e3a-8504-9b73f027080b",
   "metadata": {},
   "source": [
    "# List Comprehensions"
   ]
  },
  {
   "cell_type": "code",
   "execution_count": 270,
   "id": "5a3e10d7-28da-4342-8e95-af7c9628d2ad",
   "metadata": {},
   "outputs": [
    {
     "data": {
      "text/plain": [
       "[0, 1, 2, 3, 4, 5, 6, 7, 8, 9]"
      ]
     },
     "execution_count": 270,
     "metadata": {},
     "output_type": "execute_result"
    }
   ],
   "source": [
    "list1 = []\n",
    "\n",
    "for i in range(0, 10):\n",
    "    list1.append(i)\n",
    "\n",
    "list1"
   ]
  },
  {
   "cell_type": "code",
   "execution_count": 271,
   "id": "3a24c369-6b62-419e-8c3b-08e9029d0362",
   "metadata": {},
   "outputs": [],
   "source": [
    "list2 = [x for x in range(0, 10)]"
   ]
  },
  {
   "cell_type": "code",
   "execution_count": 272,
   "id": "5e10ffda-dcc1-46d3-a693-5c1661556636",
   "metadata": {},
   "outputs": [
    {
     "data": {
      "text/plain": [
       "[0, 1, 2, 3, 4, 5, 6, 7, 8, 9]"
      ]
     },
     "execution_count": 272,
     "metadata": {},
     "output_type": "execute_result"
    }
   ],
   "source": [
    "list2"
   ]
  },
  {
   "cell_type": "code",
   "execution_count": 273,
   "id": "378d8932-d8ac-4f15-b444-412d49fb9515",
   "metadata": {},
   "outputs": [],
   "source": [
    "list3 = [x for x in range(1, 51) if x % 2 == 0]"
   ]
  },
  {
   "cell_type": "code",
   "execution_count": 274,
   "id": "1573d276-753a-421a-8219-42d15653e5e0",
   "metadata": {},
   "outputs": [
    {
     "data": {
      "text/plain": [
       "[2,\n",
       " 4,\n",
       " 6,\n",
       " 8,\n",
       " 10,\n",
       " 12,\n",
       " 14,\n",
       " 16,\n",
       " 18,\n",
       " 20,\n",
       " 22,\n",
       " 24,\n",
       " 26,\n",
       " 28,\n",
       " 30,\n",
       " 32,\n",
       " 34,\n",
       " 36,\n",
       " 38,\n",
       " 40,\n",
       " 42,\n",
       " 44,\n",
       " 46,\n",
       " 48,\n",
       " 50]"
      ]
     },
     "execution_count": 274,
     "metadata": {},
     "output_type": "execute_result"
    }
   ],
   "source": [
    "list3"
   ]
  },
  {
   "cell_type": "code",
   "execution_count": 275,
   "id": "8356caab-4245-4283-8b5a-4e3b195a1614",
   "metadata": {},
   "outputs": [],
   "source": [
    "list4 = [x * 2 for x in range(2, 10)]"
   ]
  },
  {
   "cell_type": "code",
   "execution_count": 276,
   "id": "21140e49-9533-458b-9a2b-f1f7fa09be46",
   "metadata": {},
   "outputs": [
    {
     "data": {
      "text/plain": [
       "[4, 6, 8, 10, 12, 14, 16, 18]"
      ]
     },
     "execution_count": 276,
     "metadata": {},
     "output_type": "execute_result"
    }
   ],
   "source": [
    "list4"
   ]
  },
  {
   "cell_type": "code",
   "execution_count": 277,
   "id": "aa2dcdb1-8720-4d0e-873c-886e24d45e11",
   "metadata": {},
   "outputs": [],
   "source": [
    "t = (x for x in range(0, 90))"
   ]
  },
  {
   "cell_type": "code",
   "execution_count": 279,
   "id": "77ec649a-3b91-4d3a-be66-daa7940ebcd6",
   "metadata": {},
   "outputs": [
    {
     "data": {
      "text/plain": [
       "(0,\n",
       " 1,\n",
       " 2,\n",
       " 3,\n",
       " 4,\n",
       " 5,\n",
       " 6,\n",
       " 7,\n",
       " 8,\n",
       " 9,\n",
       " 10,\n",
       " 11,\n",
       " 12,\n",
       " 13,\n",
       " 14,\n",
       " 15,\n",
       " 16,\n",
       " 17,\n",
       " 18,\n",
       " 19,\n",
       " 20,\n",
       " 21,\n",
       " 22,\n",
       " 23,\n",
       " 24,\n",
       " 25,\n",
       " 26,\n",
       " 27,\n",
       " 28,\n",
       " 29,\n",
       " 30,\n",
       " 31,\n",
       " 32,\n",
       " 33,\n",
       " 34,\n",
       " 35,\n",
       " 36,\n",
       " 37,\n",
       " 38,\n",
       " 39,\n",
       " 40,\n",
       " 41,\n",
       " 42,\n",
       " 43,\n",
       " 44,\n",
       " 45,\n",
       " 46,\n",
       " 47,\n",
       " 48,\n",
       " 49,\n",
       " 50,\n",
       " 51,\n",
       " 52,\n",
       " 53,\n",
       " 54,\n",
       " 55,\n",
       " 56,\n",
       " 57,\n",
       " 58,\n",
       " 59,\n",
       " 60,\n",
       " 61,\n",
       " 62,\n",
       " 63,\n",
       " 64,\n",
       " 65,\n",
       " 66,\n",
       " 67,\n",
       " 68,\n",
       " 69,\n",
       " 70,\n",
       " 71,\n",
       " 72,\n",
       " 73,\n",
       " 74,\n",
       " 75,\n",
       " 76,\n",
       " 77,\n",
       " 78,\n",
       " 79,\n",
       " 80,\n",
       " 81,\n",
       " 82,\n",
       " 83,\n",
       " 84,\n",
       " 85,\n",
       " 86,\n",
       " 87,\n",
       " 88,\n",
       " 89)"
      ]
     },
     "execution_count": 279,
     "metadata": {},
     "output_type": "execute_result"
    }
   ],
   "source": [
    "tuple(t)"
   ]
  },
  {
   "cell_type": "code",
   "execution_count": 282,
   "id": "74b23b0a-08e2-4844-8c33-3f85bd2a51c4",
   "metadata": {},
   "outputs": [
    {
     "data": {
      "text/plain": [
       "{0}"
      ]
     },
     "execution_count": 282,
     "metadata": {},
     "output_type": "execute_result"
    }
   ],
   "source": [
    "{0 for s in range(0, 50)}\n"
   ]
  },
  {
   "cell_type": "code",
   "execution_count": 284,
   "id": "dd2769dc-2b15-435b-b8ad-b1f73cbec20b",
   "metadata": {},
   "outputs": [
    {
     "data": {
      "text/plain": [
       "(0,\n",
       " 0,\n",
       " 0,\n",
       " 0,\n",
       " 0,\n",
       " 0,\n",
       " 0,\n",
       " 0,\n",
       " 0,\n",
       " 0,\n",
       " 0,\n",
       " 0,\n",
       " 0,\n",
       " 0,\n",
       " 0,\n",
       " 0,\n",
       " 0,\n",
       " 0,\n",
       " 0,\n",
       " 0,\n",
       " 0,\n",
       " 0,\n",
       " 0,\n",
       " 0,\n",
       " 0,\n",
       " 0,\n",
       " 0,\n",
       " 0,\n",
       " 0,\n",
       " 0,\n",
       " 0,\n",
       " 0,\n",
       " 0,\n",
       " 0,\n",
       " 0,\n",
       " 0,\n",
       " 0,\n",
       " 0,\n",
       " 0,\n",
       " 0,\n",
       " 0,\n",
       " 0,\n",
       " 0,\n",
       " 0,\n",
       " 0,\n",
       " 0,\n",
       " 0,\n",
       " 0,\n",
       " 0,\n",
       " 0,\n",
       " 0,\n",
       " 0,\n",
       " 0,\n",
       " 0,\n",
       " 0,\n",
       " 0,\n",
       " 0,\n",
       " 0,\n",
       " 0,\n",
       " 0,\n",
       " 0,\n",
       " 0,\n",
       " 0,\n",
       " 0,\n",
       " 0,\n",
       " 0,\n",
       " 0,\n",
       " 0,\n",
       " 0,\n",
       " 0,\n",
       " 0,\n",
       " 0,\n",
       " 0,\n",
       " 0,\n",
       " 0,\n",
       " 0,\n",
       " 0,\n",
       " 0,\n",
       " 0,\n",
       " 0,\n",
       " 0,\n",
       " 0,\n",
       " 0,\n",
       " 0,\n",
       " 0,\n",
       " 0,\n",
       " 0,\n",
       " 0,\n",
       " 0,\n",
       " 0)"
      ]
     },
     "execution_count": 284,
     "metadata": {},
     "output_type": "execute_result"
    }
   ],
   "source": [
    "tuple((0 for x in range(0, 90)))"
   ]
  },
  {
   "cell_type": "markdown",
   "id": "03d0b378-6901-4065-97e6-d977c53e75f3",
   "metadata": {},
   "source": [
    "# Maps Filters"
   ]
  },
  {
   "cell_type": "code",
   "execution_count": 287,
   "id": "08ac7628-0572-47c2-bf13-d64bc34d9f60",
   "metadata": {},
   "outputs": [],
   "source": [
    "l = map(lambda x: x * 2, [2,3,5,7,899])"
   ]
  },
  {
   "cell_type": "code",
   "execution_count": 289,
   "id": "b07d442a-b76d-4949-b254-fba923271fad",
   "metadata": {},
   "outputs": [
    {
     "data": {
      "text/plain": [
       "[4, 6, 10, 14, 1798]"
      ]
     },
     "execution_count": 289,
     "metadata": {},
     "output_type": "execute_result"
    }
   ],
   "source": [
    "list(l)"
   ]
  },
  {
   "cell_type": "code",
   "execution_count": 293,
   "id": "2e68e739-d783-49c5-b1ca-661bb1348c7c",
   "metadata": {},
   "outputs": [],
   "source": [
    "l = map(lambda x, y: x * 2, [2,3,5,7,899], [5,3,5,7])"
   ]
  },
  {
   "cell_type": "code",
   "execution_count": 294,
   "id": "e792ff9b-f969-434c-a456-a41c2bea7da9",
   "metadata": {},
   "outputs": [
    {
     "data": {
      "text/plain": [
       "[4, 6, 10, 14]"
      ]
     },
     "execution_count": 294,
     "metadata": {},
     "output_type": "execute_result"
    }
   ],
   "source": [
    "list(l)"
   ]
  },
  {
   "cell_type": "code",
   "execution_count": 295,
   "id": "bd194a99-3b81-4ab6-a8f0-0b5587d2a631",
   "metadata": {},
   "outputs": [],
   "source": [
    "s = map(max, [1,2,3,5,3], [56,5656,56,56], [23,23,23,23], [23,23,23,23,23])"
   ]
  },
  {
   "cell_type": "code",
   "execution_count": 296,
   "id": "8178988a-d2d5-466e-b244-0998e98e8d3c",
   "metadata": {},
   "outputs": [
    {
     "data": {
      "text/plain": [
       "[56, 5656, 56, 56]"
      ]
     },
     "execution_count": 296,
     "metadata": {},
     "output_type": "execute_result"
    }
   ],
   "source": [
    "list(s)"
   ]
  },
  {
   "cell_type": "code",
   "execution_count": 297,
   "id": "4bc4fdea-77d8-4373-bb31-da78aa67bb2b",
   "metadata": {},
   "outputs": [
    {
     "data": {
      "text/plain": [
       "3"
      ]
     },
     "execution_count": 297,
     "metadata": {},
     "output_type": "execute_result"
    }
   ],
   "source": [
    "max(2,2,3,3,3,3,3,3,3,3,3,3,3,3,3)"
   ]
  },
  {
   "cell_type": "code",
   "execution_count": 298,
   "id": "c2fe9d03-7784-45dc-b7ab-287a783b320a",
   "metadata": {},
   "outputs": [
    {
     "data": {
      "text/plain": [
       "[0, 2, 4, 6, 8, 10, 12, 14, 16, 18]"
      ]
     },
     "execution_count": 298,
     "metadata": {},
     "output_type": "execute_result"
    }
   ],
   "source": [
    "a = [x for x in range(0, 20)]\n",
    "list(filter(lambda x: x % 2 == 0, a))"
   ]
  },
  {
   "cell_type": "markdown",
   "id": "2cf49ea1-9954-483a-a7d5-8d93f18d16ce",
   "metadata": {},
   "source": [
    "# Python Classes and objects"
   ]
  },
  {
   "cell_type": "code",
   "execution_count": 299,
   "id": "27568139-d973-4d24-9a64-c69807a729da",
   "metadata": {},
   "outputs": [],
   "source": [
    "class Person:\n",
    "    department = \"Mechanical\"\n",
    "\n",
    "    def set_name(self, name):\n",
    "        self.name = name\n",
    "    def set_age(self, age):\n",
    "        self.age = age\n",
    "\n",
    "person = Person()"
   ]
  },
  {
   "cell_type": "code",
   "execution_count": 300,
   "id": "70fd2577-e4b5-482e-9df6-4be8f2750864",
   "metadata": {},
   "outputs": [
    {
     "ename": "AttributeError",
     "evalue": "'Person' object has no attribute 'name'",
     "output_type": "error",
     "traceback": [
      "\u001b[0;31m---------------------------------------------------------------------------\u001b[0m",
      "\u001b[0;31mAttributeError\u001b[0m                            Traceback (most recent call last)",
      "Cell \u001b[0;32mIn[300], line 1\u001b[0m\n\u001b[0;32m----> 1\u001b[0m \u001b[43mperson\u001b[49m\u001b[38;5;241;43m.\u001b[39;49m\u001b[43mname\u001b[49m\n",
      "\u001b[0;31mAttributeError\u001b[0m: 'Person' object has no attribute 'name'"
     ]
    }
   ],
   "source": [
    "person.name"
   ]
  },
  {
   "cell_type": "code",
   "execution_count": 301,
   "id": "ff298e95-a866-4e83-93a2-bfb22bbb2386",
   "metadata": {},
   "outputs": [],
   "source": [
    "person.set_name(\"Rafeh\")"
   ]
  },
  {
   "cell_type": "code",
   "execution_count": 302,
   "id": "103ab8f0-f2d8-49c7-8ca9-3383dd6c57b5",
   "metadata": {},
   "outputs": [
    {
     "data": {
      "text/plain": [
       "'Rafeh'"
      ]
     },
     "execution_count": 302,
     "metadata": {},
     "output_type": "execute_result"
    }
   ],
   "source": [
    "person.name"
   ]
  },
  {
   "cell_type": "code",
   "execution_count": 303,
   "id": "a44f198e-adce-4bb8-ae97-594b1bfb0a75",
   "metadata": {},
   "outputs": [],
   "source": [
    "person.set_age(24)"
   ]
  },
  {
   "cell_type": "code",
   "execution_count": 304,
   "id": "0f3c1937-576b-4407-a8a2-68f82f94d610",
   "metadata": {},
   "outputs": [
    {
     "data": {
      "text/plain": [
       "24"
      ]
     },
     "execution_count": 304,
     "metadata": {},
     "output_type": "execute_result"
    }
   ],
   "source": [
    "person.age"
   ]
  },
  {
   "cell_type": "code",
   "execution_count": 305,
   "id": "98bda4e6-bb31-4884-8721-e6ec9712e32c",
   "metadata": {},
   "outputs": [],
   "source": [
    "person2 = Person()"
   ]
  },
  {
   "cell_type": "code",
   "execution_count": 306,
   "id": "f0255720-fc1d-45d0-97ce-122a988be247",
   "metadata": {},
   "outputs": [],
   "source": [
    "# person...."
   ]
  },
  {
   "cell_type": "markdown",
   "id": "d9fa0127-7903-408a-9966-f3e8d3ebcd19",
   "metadata": {},
   "source": [
    "# More on List Comprehensions"
   ]
  },
  {
   "cell_type": "code",
   "execution_count": 315,
   "id": "f88fdd85-78c0-40ca-84a3-68b9fa022c2b",
   "metadata": {},
   "outputs": [
    {
     "data": {
      "text/plain": [
       "['ab94',\n",
       " 'ab94',\n",
       " 'ab94',\n",
       " 'ab94',\n",
       " 'ab94',\n",
       " 'ab94',\n",
       " 'ab94',\n",
       " 'ab94',\n",
       " 'ab94',\n",
       " 'ab94',\n",
       " 'ab94',\n",
       " 'ab94',\n",
       " 'ab94',\n",
       " 'ab94',\n",
       " 'ab94',\n",
       " 'ab94',\n",
       " 'ab94',\n",
       " 'ab94',\n",
       " 'ab94',\n",
       " 'ab94',\n",
       " 'ab94',\n",
       " 'ab94',\n",
       " 'ab94',\n",
       " 'ab94']"
      ]
     },
     "execution_count": 315,
     "metadata": {},
     "output_type": "execute_result"
    }
   ],
   "source": [
    "fi = \"aabbccddeeffgghhii\"\n",
    "di = \"929323234342334\"\n",
    "\n",
    "[a+b+c+d for a in fi for b in fi for c in di for d in di if a == \"a\" if b == \"b\" if c == '9' if d == '4']"
   ]
  },
  {
   "cell_type": "code",
   "execution_count": 307,
   "id": "f6c44718-651b-49fc-b398-98c6075b0ab7",
   "metadata": {},
   "outputs": [
    {
     "ename": "TypeError",
     "evalue": "can only concatenate str (not \"int\") to str",
     "output_type": "error",
     "traceback": [
      "\u001b[0;31m---------------------------------------------------------------------------\u001b[0m",
      "\u001b[0;31mTypeError\u001b[0m                                 Traceback (most recent call last)",
      "Cell \u001b[0;32mIn[307], line 1\u001b[0m\n\u001b[0;32m----> 1\u001b[0m \u001b[38;5;124;43m\"\u001b[39;49m\u001b[38;5;124;43masd\u001b[39;49m\u001b[38;5;124;43m\"\u001b[39;49m\u001b[43m \u001b[49m\u001b[38;5;241;43m+\u001b[39;49m\u001b[43m \u001b[49m\u001b[38;5;241;43m90\u001b[39;49m\n",
      "\u001b[0;31mTypeError\u001b[0m: can only concatenate str (not \"int\") to str"
     ]
    }
   ],
   "source": [
    "\"asd\" + 90"
   ]
  },
  {
   "cell_type": "code",
   "execution_count": 316,
   "id": "1476d8b6-47aa-4d46-bf86-4db179ad3903",
   "metadata": {},
   "outputs": [],
   "source": [
    "list5 = []\n",
    "\n",
    "for a in fi:\n",
    "    for b in fi:\n",
    "        for c in di:\n",
    "            for d in di:\n",
    "                list5.append(a+b+c+d)"
   ]
  },
  {
   "cell_type": "code",
   "execution_count": 311,
   "id": "f5c80109-fc8a-4b57-940c-535de2091094",
   "metadata": {},
   "outputs": [
    {
     "data": {
      "text/plain": [
       "['aa99',\n",
       " 'aa92',\n",
       " 'aa99',\n",
       " 'aa93',\n",
       " 'aa92',\n",
       " 'aa93',\n",
       " 'aa92',\n",
       " 'aa93',\n",
       " 'aa94',\n",
       " 'aa93',\n",
       " 'aa94',\n",
       " 'aa92',\n",
       " 'aa93',\n",
       " 'aa93',\n",
       " 'aa94',\n",
       " 'aa29',\n",
       " 'aa22',\n",
       " 'aa29',\n",
       " 'aa23',\n",
       " 'aa22',\n",
       " 'aa23',\n",
       " 'aa22',\n",
       " 'aa23',\n",
       " 'aa24',\n",
       " 'aa23',\n",
       " 'aa24',\n",
       " 'aa22',\n",
       " 'aa23',\n",
       " 'aa23',\n",
       " 'aa24',\n",
       " 'aa99',\n",
       " 'aa92',\n",
       " 'aa99',\n",
       " 'aa93',\n",
       " 'aa92',\n",
       " 'aa93',\n",
       " 'aa92',\n",
       " 'aa93',\n",
       " 'aa94',\n",
       " 'aa93',\n",
       " 'aa94',\n",
       " 'aa92',\n",
       " 'aa93',\n",
       " 'aa93',\n",
       " 'aa94',\n",
       " 'aa39',\n",
       " 'aa32',\n",
       " 'aa39',\n",
       " 'aa33',\n",
       " 'aa32',\n",
       " 'aa33',\n",
       " 'aa32',\n",
       " 'aa33',\n",
       " 'aa34',\n",
       " 'aa33',\n",
       " 'aa34',\n",
       " 'aa32',\n",
       " 'aa33',\n",
       " 'aa33',\n",
       " 'aa34',\n",
       " 'aa29',\n",
       " 'aa22',\n",
       " 'aa29',\n",
       " 'aa23',\n",
       " 'aa22',\n",
       " 'aa23',\n",
       " 'aa22',\n",
       " 'aa23',\n",
       " 'aa24',\n",
       " 'aa23',\n",
       " 'aa24',\n",
       " 'aa22',\n",
       " 'aa23',\n",
       " 'aa23',\n",
       " 'aa24',\n",
       " 'aa39',\n",
       " 'aa32',\n",
       " 'aa39',\n",
       " 'aa33',\n",
       " 'aa32',\n",
       " 'aa33',\n",
       " 'aa32',\n",
       " 'aa33',\n",
       " 'aa34',\n",
       " 'aa33',\n",
       " 'aa34',\n",
       " 'aa32',\n",
       " 'aa33',\n",
       " 'aa33',\n",
       " 'aa34',\n",
       " 'aa29',\n",
       " 'aa22',\n",
       " 'aa29',\n",
       " 'aa23',\n",
       " 'aa22',\n",
       " 'aa23',\n",
       " 'aa22',\n",
       " 'aa23',\n",
       " 'aa24',\n",
       " 'aa23',\n",
       " 'aa24',\n",
       " 'aa22',\n",
       " 'aa23',\n",
       " 'aa23',\n",
       " 'aa24',\n",
       " 'aa39',\n",
       " 'aa32',\n",
       " 'aa39',\n",
       " 'aa33',\n",
       " 'aa32',\n",
       " 'aa33',\n",
       " 'aa32',\n",
       " 'aa33',\n",
       " 'aa34',\n",
       " 'aa33',\n",
       " 'aa34',\n",
       " 'aa32',\n",
       " 'aa33',\n",
       " 'aa33',\n",
       " 'aa34',\n",
       " 'aa49',\n",
       " 'aa42',\n",
       " 'aa49',\n",
       " 'aa43',\n",
       " 'aa42',\n",
       " 'aa43',\n",
       " 'aa42',\n",
       " 'aa43',\n",
       " 'aa44',\n",
       " 'aa43',\n",
       " 'aa44',\n",
       " 'aa42',\n",
       " 'aa43',\n",
       " 'aa43',\n",
       " 'aa44',\n",
       " 'aa39',\n",
       " 'aa32',\n",
       " 'aa39',\n",
       " 'aa33',\n",
       " 'aa32',\n",
       " 'aa33',\n",
       " 'aa32',\n",
       " 'aa33',\n",
       " 'aa34',\n",
       " 'aa33',\n",
       " 'aa34',\n",
       " 'aa32',\n",
       " 'aa33',\n",
       " 'aa33',\n",
       " 'aa34',\n",
       " 'aa49',\n",
       " 'aa42',\n",
       " 'aa49',\n",
       " 'aa43',\n",
       " 'aa42',\n",
       " 'aa43',\n",
       " 'aa42',\n",
       " 'aa43',\n",
       " 'aa44',\n",
       " 'aa43',\n",
       " 'aa44',\n",
       " 'aa42',\n",
       " 'aa43',\n",
       " 'aa43',\n",
       " 'aa44',\n",
       " 'aa29',\n",
       " 'aa22',\n",
       " 'aa29',\n",
       " 'aa23',\n",
       " 'aa22',\n",
       " 'aa23',\n",
       " 'aa22',\n",
       " 'aa23',\n",
       " 'aa24',\n",
       " 'aa23',\n",
       " 'aa24',\n",
       " 'aa22',\n",
       " 'aa23',\n",
       " 'aa23',\n",
       " 'aa24',\n",
       " 'aa39',\n",
       " 'aa32',\n",
       " 'aa39',\n",
       " 'aa33',\n",
       " 'aa32',\n",
       " 'aa33',\n",
       " 'aa32',\n",
       " 'aa33',\n",
       " 'aa34',\n",
       " 'aa33',\n",
       " 'aa34',\n",
       " 'aa32',\n",
       " 'aa33',\n",
       " 'aa33',\n",
       " 'aa34',\n",
       " 'aa39',\n",
       " 'aa32',\n",
       " 'aa39',\n",
       " 'aa33',\n",
       " 'aa32',\n",
       " 'aa33',\n",
       " 'aa32',\n",
       " 'aa33',\n",
       " 'aa34',\n",
       " 'aa33',\n",
       " 'aa34',\n",
       " 'aa32',\n",
       " 'aa33',\n",
       " 'aa33',\n",
       " 'aa34',\n",
       " 'aa49',\n",
       " 'aa42',\n",
       " 'aa49',\n",
       " 'aa43',\n",
       " 'aa42',\n",
       " 'aa43',\n",
       " 'aa42',\n",
       " 'aa43',\n",
       " 'aa44',\n",
       " 'aa43',\n",
       " 'aa44',\n",
       " 'aa42',\n",
       " 'aa43',\n",
       " 'aa43',\n",
       " 'aa44',\n",
       " 'aa99',\n",
       " 'aa92',\n",
       " 'aa99',\n",
       " 'aa93',\n",
       " 'aa92',\n",
       " 'aa93',\n",
       " 'aa92',\n",
       " 'aa93',\n",
       " 'aa94',\n",
       " 'aa93',\n",
       " 'aa94',\n",
       " 'aa92',\n",
       " 'aa93',\n",
       " 'aa93',\n",
       " 'aa94',\n",
       " 'aa29',\n",
       " 'aa22',\n",
       " 'aa29',\n",
       " 'aa23',\n",
       " 'aa22',\n",
       " 'aa23',\n",
       " 'aa22',\n",
       " 'aa23',\n",
       " 'aa24',\n",
       " 'aa23',\n",
       " 'aa24',\n",
       " 'aa22',\n",
       " 'aa23',\n",
       " 'aa23',\n",
       " 'aa24',\n",
       " 'aa99',\n",
       " 'aa92',\n",
       " 'aa99',\n",
       " 'aa93',\n",
       " 'aa92',\n",
       " 'aa93',\n",
       " 'aa92',\n",
       " 'aa93',\n",
       " 'aa94',\n",
       " 'aa93',\n",
       " 'aa94',\n",
       " 'aa92',\n",
       " 'aa93',\n",
       " 'aa93',\n",
       " 'aa94',\n",
       " 'aa39',\n",
       " 'aa32',\n",
       " 'aa39',\n",
       " 'aa33',\n",
       " 'aa32',\n",
       " 'aa33',\n",
       " 'aa32',\n",
       " 'aa33',\n",
       " 'aa34',\n",
       " 'aa33',\n",
       " 'aa34',\n",
       " 'aa32',\n",
       " 'aa33',\n",
       " 'aa33',\n",
       " 'aa34',\n",
       " 'aa29',\n",
       " 'aa22',\n",
       " 'aa29',\n",
       " 'aa23',\n",
       " 'aa22',\n",
       " 'aa23',\n",
       " 'aa22',\n",
       " 'aa23',\n",
       " 'aa24',\n",
       " 'aa23',\n",
       " 'aa24',\n",
       " 'aa22',\n",
       " 'aa23',\n",
       " 'aa23',\n",
       " 'aa24',\n",
       " 'aa39',\n",
       " 'aa32',\n",
       " 'aa39',\n",
       " 'aa33',\n",
       " 'aa32',\n",
       " 'aa33',\n",
       " 'aa32',\n",
       " 'aa33',\n",
       " 'aa34',\n",
       " 'aa33',\n",
       " 'aa34',\n",
       " 'aa32',\n",
       " 'aa33',\n",
       " 'aa33',\n",
       " 'aa34',\n",
       " 'aa29',\n",
       " 'aa22',\n",
       " 'aa29',\n",
       " 'aa23',\n",
       " 'aa22',\n",
       " 'aa23',\n",
       " 'aa22',\n",
       " 'aa23',\n",
       " 'aa24',\n",
       " 'aa23',\n",
       " 'aa24',\n",
       " 'aa22',\n",
       " 'aa23',\n",
       " 'aa23',\n",
       " 'aa24',\n",
       " 'aa39',\n",
       " 'aa32',\n",
       " 'aa39',\n",
       " 'aa33',\n",
       " 'aa32',\n",
       " 'aa33',\n",
       " 'aa32',\n",
       " 'aa33',\n",
       " 'aa34',\n",
       " 'aa33',\n",
       " 'aa34',\n",
       " 'aa32',\n",
       " 'aa33',\n",
       " 'aa33',\n",
       " 'aa34',\n",
       " 'aa49',\n",
       " 'aa42',\n",
       " 'aa49',\n",
       " 'aa43',\n",
       " 'aa42',\n",
       " 'aa43',\n",
       " 'aa42',\n",
       " 'aa43',\n",
       " 'aa44',\n",
       " 'aa43',\n",
       " 'aa44',\n",
       " 'aa42',\n",
       " 'aa43',\n",
       " 'aa43',\n",
       " 'aa44',\n",
       " 'aa39',\n",
       " 'aa32',\n",
       " 'aa39',\n",
       " 'aa33',\n",
       " 'aa32',\n",
       " 'aa33',\n",
       " 'aa32',\n",
       " 'aa33',\n",
       " 'aa34',\n",
       " 'aa33',\n",
       " 'aa34',\n",
       " 'aa32',\n",
       " 'aa33',\n",
       " 'aa33',\n",
       " 'aa34',\n",
       " 'aa49',\n",
       " 'aa42',\n",
       " 'aa49',\n",
       " 'aa43',\n",
       " 'aa42',\n",
       " 'aa43',\n",
       " 'aa42',\n",
       " 'aa43',\n",
       " 'aa44',\n",
       " 'aa43',\n",
       " 'aa44',\n",
       " 'aa42',\n",
       " 'aa43',\n",
       " 'aa43',\n",
       " 'aa44',\n",
       " 'aa29',\n",
       " 'aa22',\n",
       " 'aa29',\n",
       " 'aa23',\n",
       " 'aa22',\n",
       " 'aa23',\n",
       " 'aa22',\n",
       " 'aa23',\n",
       " 'aa24',\n",
       " 'aa23',\n",
       " 'aa24',\n",
       " 'aa22',\n",
       " 'aa23',\n",
       " 'aa23',\n",
       " 'aa24',\n",
       " 'aa39',\n",
       " 'aa32',\n",
       " 'aa39',\n",
       " 'aa33',\n",
       " 'aa32',\n",
       " 'aa33',\n",
       " 'aa32',\n",
       " 'aa33',\n",
       " 'aa34',\n",
       " 'aa33',\n",
       " 'aa34',\n",
       " 'aa32',\n",
       " 'aa33',\n",
       " 'aa33',\n",
       " 'aa34',\n",
       " 'aa39',\n",
       " 'aa32',\n",
       " 'aa39',\n",
       " 'aa33',\n",
       " 'aa32',\n",
       " 'aa33',\n",
       " 'aa32',\n",
       " 'aa33',\n",
       " 'aa34',\n",
       " 'aa33',\n",
       " 'aa34',\n",
       " 'aa32',\n",
       " 'aa33',\n",
       " 'aa33',\n",
       " 'aa34',\n",
       " 'aa49',\n",
       " 'aa42',\n",
       " 'aa49',\n",
       " 'aa43',\n",
       " 'aa42',\n",
       " 'aa43',\n",
       " 'aa42',\n",
       " 'aa43',\n",
       " 'aa44',\n",
       " 'aa43',\n",
       " 'aa44',\n",
       " 'aa42',\n",
       " 'aa43',\n",
       " 'aa43',\n",
       " 'aa44',\n",
       " 'ab99',\n",
       " 'ab92',\n",
       " 'ab99',\n",
       " 'ab93',\n",
       " 'ab92',\n",
       " 'ab93',\n",
       " 'ab92',\n",
       " 'ab93',\n",
       " 'ab94',\n",
       " 'ab93',\n",
       " 'ab94',\n",
       " 'ab92',\n",
       " 'ab93',\n",
       " 'ab93',\n",
       " 'ab94',\n",
       " 'ab29',\n",
       " 'ab22',\n",
       " 'ab29',\n",
       " 'ab23',\n",
       " 'ab22',\n",
       " 'ab23',\n",
       " 'ab22',\n",
       " 'ab23',\n",
       " 'ab24',\n",
       " 'ab23',\n",
       " 'ab24',\n",
       " 'ab22',\n",
       " 'ab23',\n",
       " 'ab23',\n",
       " 'ab24',\n",
       " 'ab99',\n",
       " 'ab92',\n",
       " 'ab99',\n",
       " 'ab93',\n",
       " 'ab92',\n",
       " 'ab93',\n",
       " 'ab92',\n",
       " 'ab93',\n",
       " 'ab94',\n",
       " 'ab93',\n",
       " 'ab94',\n",
       " 'ab92',\n",
       " 'ab93',\n",
       " 'ab93',\n",
       " 'ab94',\n",
       " 'ab39',\n",
       " 'ab32',\n",
       " 'ab39',\n",
       " 'ab33',\n",
       " 'ab32',\n",
       " 'ab33',\n",
       " 'ab32',\n",
       " 'ab33',\n",
       " 'ab34',\n",
       " 'ab33',\n",
       " 'ab34',\n",
       " 'ab32',\n",
       " 'ab33',\n",
       " 'ab33',\n",
       " 'ab34',\n",
       " 'ab29',\n",
       " 'ab22',\n",
       " 'ab29',\n",
       " 'ab23',\n",
       " 'ab22',\n",
       " 'ab23',\n",
       " 'ab22',\n",
       " 'ab23',\n",
       " 'ab24',\n",
       " 'ab23',\n",
       " 'ab24',\n",
       " 'ab22',\n",
       " 'ab23',\n",
       " 'ab23',\n",
       " 'ab24',\n",
       " 'ab39',\n",
       " 'ab32',\n",
       " 'ab39',\n",
       " 'ab33',\n",
       " 'ab32',\n",
       " 'ab33',\n",
       " 'ab32',\n",
       " 'ab33',\n",
       " 'ab34',\n",
       " 'ab33',\n",
       " 'ab34',\n",
       " 'ab32',\n",
       " 'ab33',\n",
       " 'ab33',\n",
       " 'ab34',\n",
       " 'ab29',\n",
       " 'ab22',\n",
       " 'ab29',\n",
       " 'ab23',\n",
       " 'ab22',\n",
       " 'ab23',\n",
       " 'ab22',\n",
       " 'ab23',\n",
       " 'ab24',\n",
       " 'ab23',\n",
       " 'ab24',\n",
       " 'ab22',\n",
       " 'ab23',\n",
       " 'ab23',\n",
       " 'ab24',\n",
       " 'ab39',\n",
       " 'ab32',\n",
       " 'ab39',\n",
       " 'ab33',\n",
       " 'ab32',\n",
       " 'ab33',\n",
       " 'ab32',\n",
       " 'ab33',\n",
       " 'ab34',\n",
       " 'ab33',\n",
       " 'ab34',\n",
       " 'ab32',\n",
       " 'ab33',\n",
       " 'ab33',\n",
       " 'ab34',\n",
       " 'ab49',\n",
       " 'ab42',\n",
       " 'ab49',\n",
       " 'ab43',\n",
       " 'ab42',\n",
       " 'ab43',\n",
       " 'ab42',\n",
       " 'ab43',\n",
       " 'ab44',\n",
       " 'ab43',\n",
       " 'ab44',\n",
       " 'ab42',\n",
       " 'ab43',\n",
       " 'ab43',\n",
       " 'ab44',\n",
       " 'ab39',\n",
       " 'ab32',\n",
       " 'ab39',\n",
       " 'ab33',\n",
       " 'ab32',\n",
       " 'ab33',\n",
       " 'ab32',\n",
       " 'ab33',\n",
       " 'ab34',\n",
       " 'ab33',\n",
       " 'ab34',\n",
       " 'ab32',\n",
       " 'ab33',\n",
       " 'ab33',\n",
       " 'ab34',\n",
       " 'ab49',\n",
       " 'ab42',\n",
       " 'ab49',\n",
       " 'ab43',\n",
       " 'ab42',\n",
       " 'ab43',\n",
       " 'ab42',\n",
       " 'ab43',\n",
       " 'ab44',\n",
       " 'ab43',\n",
       " 'ab44',\n",
       " 'ab42',\n",
       " 'ab43',\n",
       " 'ab43',\n",
       " 'ab44',\n",
       " 'ab29',\n",
       " 'ab22',\n",
       " 'ab29',\n",
       " 'ab23',\n",
       " 'ab22',\n",
       " 'ab23',\n",
       " 'ab22',\n",
       " 'ab23',\n",
       " 'ab24',\n",
       " 'ab23',\n",
       " 'ab24',\n",
       " 'ab22',\n",
       " 'ab23',\n",
       " 'ab23',\n",
       " 'ab24',\n",
       " 'ab39',\n",
       " 'ab32',\n",
       " 'ab39',\n",
       " 'ab33',\n",
       " 'ab32',\n",
       " 'ab33',\n",
       " 'ab32',\n",
       " 'ab33',\n",
       " 'ab34',\n",
       " 'ab33',\n",
       " 'ab34',\n",
       " 'ab32',\n",
       " 'ab33',\n",
       " 'ab33',\n",
       " 'ab34',\n",
       " 'ab39',\n",
       " 'ab32',\n",
       " 'ab39',\n",
       " 'ab33',\n",
       " 'ab32',\n",
       " 'ab33',\n",
       " 'ab32',\n",
       " 'ab33',\n",
       " 'ab34',\n",
       " 'ab33',\n",
       " 'ab34',\n",
       " 'ab32',\n",
       " 'ab33',\n",
       " 'ab33',\n",
       " 'ab34',\n",
       " 'ab49',\n",
       " 'ab42',\n",
       " 'ab49',\n",
       " 'ab43',\n",
       " 'ab42',\n",
       " 'ab43',\n",
       " 'ab42',\n",
       " 'ab43',\n",
       " 'ab44',\n",
       " 'ab43',\n",
       " 'ab44',\n",
       " 'ab42',\n",
       " 'ab43',\n",
       " 'ab43',\n",
       " 'ab44',\n",
       " 'ab99',\n",
       " 'ab92',\n",
       " 'ab99',\n",
       " 'ab93',\n",
       " 'ab92',\n",
       " 'ab93',\n",
       " 'ab92',\n",
       " 'ab93',\n",
       " 'ab94',\n",
       " 'ab93',\n",
       " 'ab94',\n",
       " 'ab92',\n",
       " 'ab93',\n",
       " 'ab93',\n",
       " 'ab94',\n",
       " 'ab29',\n",
       " 'ab22',\n",
       " 'ab29',\n",
       " 'ab23',\n",
       " 'ab22',\n",
       " 'ab23',\n",
       " 'ab22',\n",
       " 'ab23',\n",
       " 'ab24',\n",
       " 'ab23',\n",
       " 'ab24',\n",
       " 'ab22',\n",
       " 'ab23',\n",
       " 'ab23',\n",
       " 'ab24',\n",
       " 'ab99',\n",
       " 'ab92',\n",
       " 'ab99',\n",
       " 'ab93',\n",
       " 'ab92',\n",
       " 'ab93',\n",
       " 'ab92',\n",
       " 'ab93',\n",
       " 'ab94',\n",
       " 'ab93',\n",
       " 'ab94',\n",
       " 'ab92',\n",
       " 'ab93',\n",
       " 'ab93',\n",
       " 'ab94',\n",
       " 'ab39',\n",
       " 'ab32',\n",
       " 'ab39',\n",
       " 'ab33',\n",
       " 'ab32',\n",
       " 'ab33',\n",
       " 'ab32',\n",
       " 'ab33',\n",
       " 'ab34',\n",
       " 'ab33',\n",
       " 'ab34',\n",
       " 'ab32',\n",
       " 'ab33',\n",
       " 'ab33',\n",
       " 'ab34',\n",
       " 'ab29',\n",
       " 'ab22',\n",
       " 'ab29',\n",
       " 'ab23',\n",
       " 'ab22',\n",
       " 'ab23',\n",
       " 'ab22',\n",
       " 'ab23',\n",
       " 'ab24',\n",
       " 'ab23',\n",
       " 'ab24',\n",
       " 'ab22',\n",
       " 'ab23',\n",
       " 'ab23',\n",
       " 'ab24',\n",
       " 'ab39',\n",
       " 'ab32',\n",
       " 'ab39',\n",
       " 'ab33',\n",
       " 'ab32',\n",
       " 'ab33',\n",
       " 'ab32',\n",
       " 'ab33',\n",
       " 'ab34',\n",
       " 'ab33',\n",
       " 'ab34',\n",
       " 'ab32',\n",
       " 'ab33',\n",
       " 'ab33',\n",
       " 'ab34',\n",
       " 'ab29',\n",
       " 'ab22',\n",
       " 'ab29',\n",
       " 'ab23',\n",
       " 'ab22',\n",
       " 'ab23',\n",
       " 'ab22',\n",
       " 'ab23',\n",
       " 'ab24',\n",
       " 'ab23',\n",
       " 'ab24',\n",
       " 'ab22',\n",
       " 'ab23',\n",
       " 'ab23',\n",
       " 'ab24',\n",
       " 'ab39',\n",
       " 'ab32',\n",
       " 'ab39',\n",
       " 'ab33',\n",
       " 'ab32',\n",
       " 'ab33',\n",
       " 'ab32',\n",
       " 'ab33',\n",
       " 'ab34',\n",
       " 'ab33',\n",
       " 'ab34',\n",
       " 'ab32',\n",
       " 'ab33',\n",
       " 'ab33',\n",
       " 'ab34',\n",
       " 'ab49',\n",
       " 'ab42',\n",
       " 'ab49',\n",
       " 'ab43',\n",
       " 'ab42',\n",
       " 'ab43',\n",
       " 'ab42',\n",
       " 'ab43',\n",
       " 'ab44',\n",
       " 'ab43',\n",
       " 'ab44',\n",
       " 'ab42',\n",
       " 'ab43',\n",
       " 'ab43',\n",
       " 'ab44',\n",
       " 'ab39',\n",
       " 'ab32',\n",
       " 'ab39',\n",
       " 'ab33',\n",
       " 'ab32',\n",
       " 'ab33',\n",
       " 'ab32',\n",
       " 'ab33',\n",
       " 'ab34',\n",
       " 'ab33',\n",
       " 'ab34',\n",
       " 'ab32',\n",
       " 'ab33',\n",
       " 'ab33',\n",
       " 'ab34',\n",
       " 'ab49',\n",
       " 'ab42',\n",
       " 'ab49',\n",
       " 'ab43',\n",
       " 'ab42',\n",
       " 'ab43',\n",
       " 'ab42',\n",
       " 'ab43',\n",
       " 'ab44',\n",
       " 'ab43',\n",
       " 'ab44',\n",
       " 'ab42',\n",
       " 'ab43',\n",
       " 'ab43',\n",
       " 'ab44',\n",
       " 'ab29',\n",
       " 'ab22',\n",
       " 'ab29',\n",
       " 'ab23',\n",
       " 'ab22',\n",
       " 'ab23',\n",
       " 'ab22',\n",
       " 'ab23',\n",
       " 'ab24',\n",
       " 'ab23',\n",
       " 'ab24',\n",
       " 'ab22',\n",
       " 'ab23',\n",
       " 'ab23',\n",
       " 'ab24',\n",
       " 'ab39',\n",
       " 'ab32',\n",
       " 'ab39',\n",
       " 'ab33',\n",
       " 'ab32',\n",
       " 'ab33',\n",
       " 'ab32',\n",
       " 'ab33',\n",
       " 'ab34',\n",
       " 'ab33',\n",
       " 'ab34',\n",
       " 'ab32',\n",
       " 'ab33',\n",
       " 'ab33',\n",
       " 'ab34',\n",
       " 'ab39',\n",
       " 'ab32',\n",
       " 'ab39',\n",
       " 'ab33',\n",
       " 'ab32',\n",
       " 'ab33',\n",
       " 'ab32',\n",
       " 'ab33',\n",
       " 'ab34',\n",
       " 'ab33',\n",
       " 'ab34',\n",
       " 'ab32',\n",
       " 'ab33',\n",
       " 'ab33',\n",
       " 'ab34',\n",
       " 'ab49',\n",
       " 'ab42',\n",
       " 'ab49',\n",
       " 'ab43',\n",
       " 'ab42',\n",
       " 'ab43',\n",
       " 'ab42',\n",
       " 'ab43',\n",
       " 'ab44',\n",
       " 'ab43',\n",
       " 'ab44',\n",
       " 'ab42',\n",
       " 'ab43',\n",
       " 'ab43',\n",
       " 'ab44',\n",
       " 'ac99',\n",
       " 'ac92',\n",
       " 'ac99',\n",
       " 'ac93',\n",
       " 'ac92',\n",
       " 'ac93',\n",
       " 'ac92',\n",
       " 'ac93',\n",
       " 'ac94',\n",
       " 'ac93',\n",
       " 'ac94',\n",
       " 'ac92',\n",
       " 'ac93',\n",
       " 'ac93',\n",
       " 'ac94',\n",
       " 'ac29',\n",
       " 'ac22',\n",
       " 'ac29',\n",
       " 'ac23',\n",
       " 'ac22',\n",
       " 'ac23',\n",
       " 'ac22',\n",
       " 'ac23',\n",
       " 'ac24',\n",
       " 'ac23',\n",
       " 'ac24',\n",
       " 'ac22',\n",
       " 'ac23',\n",
       " 'ac23',\n",
       " 'ac24',\n",
       " 'ac99',\n",
       " 'ac92',\n",
       " 'ac99',\n",
       " 'ac93',\n",
       " 'ac92',\n",
       " 'ac93',\n",
       " 'ac92',\n",
       " 'ac93',\n",
       " 'ac94',\n",
       " 'ac93',\n",
       " 'ac94',\n",
       " 'ac92',\n",
       " 'ac93',\n",
       " 'ac93',\n",
       " 'ac94',\n",
       " 'ac39',\n",
       " 'ac32',\n",
       " 'ac39',\n",
       " 'ac33',\n",
       " 'ac32',\n",
       " 'ac33',\n",
       " 'ac32',\n",
       " 'ac33',\n",
       " 'ac34',\n",
       " 'ac33',\n",
       " 'ac34',\n",
       " 'ac32',\n",
       " 'ac33',\n",
       " 'ac33',\n",
       " 'ac34',\n",
       " 'ac29',\n",
       " 'ac22',\n",
       " 'ac29',\n",
       " 'ac23',\n",
       " 'ac22',\n",
       " 'ac23',\n",
       " 'ac22',\n",
       " 'ac23',\n",
       " 'ac24',\n",
       " 'ac23',\n",
       " 'ac24',\n",
       " 'ac22',\n",
       " 'ac23',\n",
       " 'ac23',\n",
       " 'ac24',\n",
       " 'ac39',\n",
       " 'ac32',\n",
       " 'ac39',\n",
       " 'ac33',\n",
       " 'ac32',\n",
       " 'ac33',\n",
       " 'ac32',\n",
       " 'ac33',\n",
       " 'ac34',\n",
       " 'ac33',\n",
       " 'ac34',\n",
       " 'ac32',\n",
       " 'ac33',\n",
       " 'ac33',\n",
       " 'ac34',\n",
       " 'ac29',\n",
       " 'ac22',\n",
       " 'ac29',\n",
       " 'ac23',\n",
       " 'ac22',\n",
       " 'ac23',\n",
       " 'ac22',\n",
       " 'ac23',\n",
       " 'ac24',\n",
       " 'ac23',\n",
       " ...]"
      ]
     },
     "execution_count": 311,
     "metadata": {},
     "output_type": "execute_result"
    }
   ],
   "source": [
    "list5"
   ]
  },
  {
   "cell_type": "code",
   "execution_count": null,
   "id": "8ce9c0b9-28b4-443e-8d4b-1657d799bfd8",
   "metadata": {},
   "outputs": [],
   "source": []
  }
 ],
 "metadata": {
  "kernelspec": {
   "display_name": "Python 3 (ipykernel)",
   "language": "python",
   "name": "python3"
  },
  "language_info": {
   "codemirror_mode": {
    "name": "ipython",
    "version": 3
   },
   "file_extension": ".py",
   "mimetype": "text/x-python",
   "name": "python",
   "nbconvert_exporter": "python",
   "pygments_lexer": "ipython3",
   "version": "3.11.5"
  }
 },
 "nbformat": 4,
 "nbformat_minor": 5
}
